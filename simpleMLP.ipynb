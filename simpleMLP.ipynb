{
 "cells": [
  {
   "cell_type": "code",
   "execution_count": 1,
   "metadata": {},
   "outputs": [],
   "source": [
    "from mlp import MultiLayerPerceptron\n",
    "from TwoDimProblem import TwoDimProblem\n",
    "import numpy as np\n",
    "\n",
    "# %matplotlib inline\n",
    "# %load_ext autoreload\n",
    "# %autoreload 2"
   ]
  },
  {
   "cell_type": "markdown",
   "metadata": {},
   "source": [
    "# Test MLP from other file"
   ]
  },
  {
   "cell_type": "code",
   "execution_count": 2,
   "metadata": {},
   "outputs": [],
   "source": [
    "p = TwoDimProblem(value_range=5)\n",
    "X, y = p.createData(soln_rank=2, noise_frac=0.02, samples=500)"
   ]
  },
  {
   "cell_type": "code",
   "execution_count": 4,
   "metadata": {},
   "outputs": [
    {
     "name": "stderr",
     "output_type": "stream",
     "text": [
      "  0%|          | 0/150 [00:00<?, ?it/s]\n"
     ]
    },
    {
     "ename": "TypingError",
     "evalue": "Failed in nopython mode pipeline (step: nopython frontend)\n\u001b[1m\u001b[1m\u001b[1mNo implementation of function Function(<built-in function getitem>) found for signature:\n \n >>> getitem(array(float64, 1d, C), Tuple(slice<a:b>, none))\n \nThere are 22 candidate implementations:\n\u001b[1m     - Of which 20 did not match due to:\n     Overload of function 'getitem': File: <numerous>: Line N/A.\n       With argument(s): '(array(float64, 1d, C), Tuple(slice<a:b>, none))':\u001b[0m\n\u001b[1m      No match.\u001b[0m\n\u001b[1m     - Of which 2 did not match due to:\n     Overload in function 'GetItemBuffer.generic': File: numba\\core\\typing\\arraydecl.py: Line 166.\n       With argument(s): '(array(float64, 1d, C), Tuple(slice<a:b>, none))':\u001b[0m\n\u001b[1m      Rejected as the implementation raised a specific error:\n        NumbaTypeError: \u001b[1munsupported array index type none in Tuple(slice<a:b>, none)\u001b[0m\u001b[0m\n  raised from c:\\Users\\Matthew\\Desktop\\Homework\\COMP5630\\ML-Project\\venv\\lib\\site-packages\\numba\\core\\typing\\arraydecl.py:72\n\u001b[0m\n\u001b[0m\u001b[1mDuring: typing of intrinsic-call at c:\\Users\\Matthew\\Desktop\\Homework\\COMP5630\\ML-Project\\mlp.py (128)\u001b[0m\n\u001b[0m\u001b[1mDuring: typing of static-get-item at c:\\Users\\Matthew\\Desktop\\Homework\\COMP5630\\ML-Project\\mlp.py (128)\u001b[0m\n\u001b[1m\nFile \"mlp.py\", line 128:\u001b[0m\n\u001b[1m    def _backprop_compiled( \n        <source elided>\n        if X.ndim == 1:\n\u001b[1m            X = X[:, np.newaxis]\n\u001b[0m            \u001b[1m^\u001b[0m\u001b[0m\n",
     "output_type": "error",
     "traceback": [
      "\u001b[1;31m---------------------------------------------------------------------------\u001b[0m",
      "\u001b[1;31mTypingError\u001b[0m                               Traceback (most recent call last)",
      "Cell \u001b[1;32mIn [4], line 9\u001b[0m\n\u001b[0;32m      1\u001b[0m m \u001b[39m=\u001b[39m MultiLayerPerceptron(\n\u001b[0;32m      2\u001b[0m     epochs\u001b[39m=\u001b[39m\u001b[39m150\u001b[39m, \n\u001b[0;32m      3\u001b[0m     lr\u001b[39m=\u001b[39m\u001b[39m0.1\u001b[39m,\n\u001b[1;32m   (...)\u001b[0m\n\u001b[0;32m      6\u001b[0m     hidden_layers\u001b[39m=\u001b[39m[\u001b[39m3\u001b[39m,\u001b[39m2\u001b[39m],\n\u001b[0;32m      7\u001b[0m     output_layer\u001b[39m=\u001b[39m\u001b[39m1\u001b[39m)\n\u001b[1;32m----> 9\u001b[0m m\u001b[39m.\u001b[39;49mfit(X,y, batch_size\u001b[39m=\u001b[39;49m\u001b[39m1\u001b[39;49m)\n\u001b[0;32m     10\u001b[0m pred \u001b[39m=\u001b[39m m\u001b[39m.\u001b[39mpredict(X)\n\u001b[0;32m     11\u001b[0m p\u001b[39m.\u001b[39mplotPred(pred, show_correct\u001b[39m=\u001b[39m\u001b[39mTrue\u001b[39;00m)\n",
      "File \u001b[1;32mc:\\Users\\Matthew\\Desktop\\Homework\\COMP5630\\ML-Project\\mlp.py:72\u001b[0m, in \u001b[0;36mMultiLayerPerceptron.fit\u001b[1;34m(self, X, y, batch_size)\u001b[0m\n\u001b[0;32m     70\u001b[0m X_batch \u001b[39m=\u001b[39m X[i:i\u001b[39m+\u001b[39mbatch_size]\n\u001b[0;32m     71\u001b[0m y_batch \u001b[39m=\u001b[39m y[i:i\u001b[39m+\u001b[39mbatch_size]\n\u001b[1;32m---> 72\u001b[0m dJdB, dJdW \u001b[39m=\u001b[39m \u001b[39mself\u001b[39;49m\u001b[39m.\u001b[39;49m_batch_backprop(X_batch, y_batch)\n\u001b[0;32m     73\u001b[0m loss \u001b[39m+\u001b[39m\u001b[39m=\u001b[39m \u001b[39mself\u001b[39m\u001b[39m.\u001b[39m_calc_loss(X_batch, y_batch)\n\u001b[0;32m     74\u001b[0m \u001b[39mself\u001b[39m\u001b[39m.\u001b[39m_biases \u001b[39m=\u001b[39m [b \u001b[39m-\u001b[39m lr \u001b[39m*\u001b[39m db \u001b[39mfor\u001b[39;00m b, db \u001b[39min\u001b[39;00m \u001b[39mzip\u001b[39m(\u001b[39mself\u001b[39m\u001b[39m.\u001b[39m_biases, dJdB)]\n",
      "File \u001b[1;32mc:\\Users\\Matthew\\Desktop\\Homework\\COMP5630\\ML-Project\\mlp.py:104\u001b[0m, in \u001b[0;36mMultiLayerPerceptron._batch_backprop\u001b[1;34m(self, X_batch, y_batch)\u001b[0m\n\u001b[0;32m    102\u001b[0m batch_size \u001b[39m=\u001b[39m \u001b[39mlen\u001b[39m(X_batch)\n\u001b[0;32m    103\u001b[0m \u001b[39mfor\u001b[39;00m X, y \u001b[39min\u001b[39;00m \u001b[39mzip\u001b[39m(X_batch, y_batch):\n\u001b[1;32m--> 104\u001b[0m     dB, dW \u001b[39m=\u001b[39m \u001b[39mself\u001b[39;49m\u001b[39m.\u001b[39;49m_backprop(X, y)\n\u001b[0;32m    105\u001b[0m     dJdB \u001b[39m=\u001b[39m [db \u001b[39m+\u001b[39m ddb \u001b[39mfor\u001b[39;00m db, ddb \u001b[39min\u001b[39;00m \u001b[39mzip\u001b[39m(dJdB, dB)]\n\u001b[0;32m    106\u001b[0m     dJdW \u001b[39m=\u001b[39m [dw \u001b[39m+\u001b[39m ddw \u001b[39mfor\u001b[39;00m dw, ddw \u001b[39min\u001b[39;00m \u001b[39mzip\u001b[39m(dJdW, dW)]\n",
      "File \u001b[1;32mc:\\Users\\Matthew\\Desktop\\Homework\\COMP5630\\ML-Project\\mlp.py:112\u001b[0m, in \u001b[0;36mMultiLayerPerceptron._backprop\u001b[1;34m(self, X, y)\u001b[0m\n\u001b[0;32m    111\u001b[0m \u001b[39mdef\u001b[39;00m \u001b[39m_backprop\u001b[39m(\u001b[39mself\u001b[39m, X: np\u001b[39m.\u001b[39mndarray, y: np\u001b[39m.\u001b[39mndarray) \u001b[39m-\u001b[39m\u001b[39m>\u001b[39m \u001b[39mtuple\u001b[39m[\u001b[39mlist\u001b[39m[np\u001b[39m.\u001b[39mndarray], \u001b[39mlist\u001b[39m[np\u001b[39m.\u001b[39mndarray]]:\n\u001b[1;32m--> 112\u001b[0m     \u001b[39mreturn\u001b[39;00m MultiLayerPerceptron\u001b[39m.\u001b[39;49m_backprop_compiled(X, y, \u001b[39mself\u001b[39;49m\u001b[39m.\u001b[39;49m_weights, \u001b[39mself\u001b[39;49m\u001b[39m.\u001b[39;49m_biases, \u001b[39mself\u001b[39;49m\u001b[39m.\u001b[39;49mactivation, \u001b[39mself\u001b[39;49m\u001b[39m.\u001b[39;49mdActivation, \u001b[39mself\u001b[39;49m\u001b[39m.\u001b[39;49m_structure)\n",
      "File \u001b[1;32mc:\\Users\\Matthew\\Desktop\\Homework\\COMP5630\\ML-Project\\venv\\lib\\site-packages\\numba\\core\\dispatcher.py:468\u001b[0m, in \u001b[0;36m_DispatcherBase._compile_for_args\u001b[1;34m(self, *args, **kws)\u001b[0m\n\u001b[0;32m    464\u001b[0m         msg \u001b[39m=\u001b[39m (\u001b[39mf\u001b[39m\u001b[39m\"\u001b[39m\u001b[39m{\u001b[39;00m\u001b[39mstr\u001b[39m(e)\u001b[39m.\u001b[39mrstrip()\u001b[39m}\u001b[39;00m\u001b[39m \u001b[39m\u001b[39m\\n\u001b[39;00m\u001b[39m\\n\u001b[39;00m\u001b[39mThis error may have been caused \u001b[39m\u001b[39m\"\u001b[39m\n\u001b[0;32m    465\u001b[0m                \u001b[39mf\u001b[39m\u001b[39m\"\u001b[39m\u001b[39mby the following argument(s):\u001b[39m\u001b[39m\\n\u001b[39;00m\u001b[39m{\u001b[39;00margs_str\u001b[39m}\u001b[39;00m\u001b[39m\\n\u001b[39;00m\u001b[39m\"\u001b[39m)\n\u001b[0;32m    466\u001b[0m         e\u001b[39m.\u001b[39mpatch_message(msg)\n\u001b[1;32m--> 468\u001b[0m     error_rewrite(e, \u001b[39m'\u001b[39;49m\u001b[39mtyping\u001b[39;49m\u001b[39m'\u001b[39;49m)\n\u001b[0;32m    469\u001b[0m \u001b[39mexcept\u001b[39;00m errors\u001b[39m.\u001b[39mUnsupportedError \u001b[39mas\u001b[39;00m e:\n\u001b[0;32m    470\u001b[0m     \u001b[39m# Something unsupported is present in the user code, add help info\u001b[39;00m\n\u001b[0;32m    471\u001b[0m     error_rewrite(e, \u001b[39m'\u001b[39m\u001b[39munsupported_error\u001b[39m\u001b[39m'\u001b[39m)\n",
      "File \u001b[1;32mc:\\Users\\Matthew\\Desktop\\Homework\\COMP5630\\ML-Project\\venv\\lib\\site-packages\\numba\\core\\dispatcher.py:409\u001b[0m, in \u001b[0;36m_DispatcherBase._compile_for_args.<locals>.error_rewrite\u001b[1;34m(e, issue_type)\u001b[0m\n\u001b[0;32m    407\u001b[0m     \u001b[39mraise\u001b[39;00m e\n\u001b[0;32m    408\u001b[0m \u001b[39melse\u001b[39;00m:\n\u001b[1;32m--> 409\u001b[0m     \u001b[39mraise\u001b[39;00m e\u001b[39m.\u001b[39mwith_traceback(\u001b[39mNone\u001b[39;00m)\n",
      "\u001b[1;31mTypingError\u001b[0m: Failed in nopython mode pipeline (step: nopython frontend)\n\u001b[1m\u001b[1m\u001b[1mNo implementation of function Function(<built-in function getitem>) found for signature:\n \n >>> getitem(array(float64, 1d, C), Tuple(slice<a:b>, none))\n \nThere are 22 candidate implementations:\n\u001b[1m     - Of which 20 did not match due to:\n     Overload of function 'getitem': File: <numerous>: Line N/A.\n       With argument(s): '(array(float64, 1d, C), Tuple(slice<a:b>, none))':\u001b[0m\n\u001b[1m      No match.\u001b[0m\n\u001b[1m     - Of which 2 did not match due to:\n     Overload in function 'GetItemBuffer.generic': File: numba\\core\\typing\\arraydecl.py: Line 166.\n       With argument(s): '(array(float64, 1d, C), Tuple(slice<a:b>, none))':\u001b[0m\n\u001b[1m      Rejected as the implementation raised a specific error:\n        NumbaTypeError: \u001b[1munsupported array index type none in Tuple(slice<a:b>, none)\u001b[0m\u001b[0m\n  raised from c:\\Users\\Matthew\\Desktop\\Homework\\COMP5630\\ML-Project\\venv\\lib\\site-packages\\numba\\core\\typing\\arraydecl.py:72\n\u001b[0m\n\u001b[0m\u001b[1mDuring: typing of intrinsic-call at c:\\Users\\Matthew\\Desktop\\Homework\\COMP5630\\ML-Project\\mlp.py (128)\u001b[0m\n\u001b[0m\u001b[1mDuring: typing of static-get-item at c:\\Users\\Matthew\\Desktop\\Homework\\COMP5630\\ML-Project\\mlp.py (128)\u001b[0m\n\u001b[1m\nFile \"mlp.py\", line 128:\u001b[0m\n\u001b[1m    def _backprop_compiled( \n        <source elided>\n        if X.ndim == 1:\n\u001b[1m            X = X[:, np.newaxis]\n\u001b[0m            \u001b[1m^\u001b[0m\u001b[0m\n"
     ]
    }
   ],
   "source": [
    "\n",
    "m = MultiLayerPerceptron(\n",
    "    epochs=150, \n",
    "    lr=0.1,\n",
    "    activation='sigmoid',\n",
    "    input_layer=2, \n",
    "    hidden_layers=[3,2],\n",
    "    output_layer=1)\n",
    "    \n",
    "m.fit(X,y, batch_size=1)\n",
    "pred = m.predict(X)\n",
    "p.plotPred(pred, show_correct=True)\n",
    "m.plot_loss()"
   ]
  },
  {
   "cell_type": "code",
   "execution_count": null,
   "metadata": {},
   "outputs": [],
   "source": []
  }
 ],
 "metadata": {
  "kernelspec": {
   "display_name": "Python 3.10.2 ('venv': venv)",
   "language": "python",
   "name": "python3"
  },
  "language_info": {
   "codemirror_mode": {
    "name": "ipython",
    "version": 3
   },
   "file_extension": ".py",
   "mimetype": "text/x-python",
   "name": "python",
   "nbconvert_exporter": "python",
   "pygments_lexer": "ipython3",
   "version": "3.10.2"
  },
  "orig_nbformat": 4,
  "vscode": {
   "interpreter": {
    "hash": "b48e50e6198b12a50a1d0347a8ef12d1b274ec9b1d505ed97908628ef6bc8c42"
   }
  }
 },
 "nbformat": 4,
 "nbformat_minor": 2
}
