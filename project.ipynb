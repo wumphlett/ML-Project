{
 "cells": [
  {
   "cell_type": "markdown",
   "id": "9de3eddd",
   "metadata": {},
   "source": [
    "# Notebook Setup\n",
    "Installs necessary requirements and configures proper notebook behavior  \n",
    "Note: The notebook assumes you are using the base conda environment"
   ]
  },
  {
   "cell_type": "code",
   "execution_count": 9,
   "id": "c506dc9e",
   "metadata": {},
   "outputs": [
    {
     "name": "stdout",
     "output_type": "stream",
     "text": [
      "Notebook setup has completed\n"
     ]
    }
   ],
   "source": [
    "%load_ext autoreload\n",
    "%autoreload 2\n",
    "    \n",
    "print(\"Notebook setup has completed\")"
   ]
  },
  {
   "cell_type": "markdown",
   "id": "6d528420",
   "metadata": {},
   "source": []
  },
  {
   "cell_type": "markdown",
   "id": "05b600f8",
   "metadata": {},
   "source": [
    "# Load Data\n",
    "Load the data from the csv file into a pandas dataframe"
   ]
  },
  {
   "cell_type": "code",
   "execution_count": 5,
   "id": "dd88bf6d",
   "metadata": {},
   "outputs": [],
   "source": [
    "CDS_AND_VINYL_JSON_PARAMS = {\n",
    "    'file': 'reviews_CDs_and_Vinyl_5.json',\n",
    "    'filetype': 'json',\n",
    "    'features': \"reviewText\",\n",
    "    'labels': \"overall\",\n",
    "}\n",
    "CELL_PHONE_JSON_PARAMS = {\n",
    "    'file': 'reviews_Cell_Phones_and_Accessories_5.json',\n",
    "    'filetype': 'json',\n",
    "    'features': \"reviewText\",\n",
    "    'labels': \"overall\",\n",
    "}\n",
    "CLOTHING_JSON_PARAMS = {\n",
    "    'file': 'reviews_Clothing_Shoes_and_Jewelry_5.json',\n",
    "    'filetype': 'json',\n",
    "    'features': \"reviewText\",\n",
    "    'labels': \"overall\",\n",
    "}\n",
    "ELECTRONICS_JSON_PARAMS = {\n",
    "    'file': 'reviews_Electronics_5.json',\n",
    "    'filetype': 'json',\n",
    "    'features': \"reviewText\",\n",
    "    'labels': \"overall\",\n",
    "}\n",
    "HOME_AND_KITCHEN_JSON_PARAMS = {\n",
    "    'file': 'reviews_Home_and_Kitchen_5.json',\n",
    "    'filetype': 'json',\n",
    "    'features': \"reviewText\",\n",
    "    'labels': \"overall\",\n",
    "}\n",
    "KINDLE_STORE_JSON_PARAMS = {\n",
    "    'file': 'reviews_Kindle_Store_5.json',\n",
    "    'filetype': 'json',\n",
    "    'features': \"reviewText\",\n",
    "    'labels': \"overall\",\n",
    "}\n",
    "MOVIES_JSON_PARAMS = {\n",
    "    'file': 'reviews_Movies_and_TV_5.json',\n",
    "    'filetype': 'json',\n",
    "    'features': \"reviewText\",\n",
    "    'labels': \"overall\",\n",
    "}\n",
    "SPORTS_JSON_PARAMS = {\n",
    "    'file': 'reviews_Sports_and_Outdoors_5.json',\n",
    "    'filetype': 'json',\n",
    "    'features': \"reviewText\",\n",
    "    'labels': \"overall\",\n",
    "}\n"
   ]
  },
  {
   "cell_type": "code",
   "execution_count": 7,
   "id": "6fde96ee",
   "metadata": {},
   "outputs": [],
   "source": [
    "# Please add the above files you have in your data directory\n",
    "files = [ELECTRONICS_JSON_PARAMS, CDS_AND_VINYL_JSON_PARAMS, CELL_PHONE_JSON_PARAMS]"
   ]
  },
  {
   "cell_type": "code",
   "execution_count": 11,
   "id": "adc1c9e0",
   "metadata": {},
   "outputs": [
    {
     "ename": "FileNotFoundError",
     "evalue": "File C:\\Users\\matth\\Documents\\Homework\\COMP5630\\ML-Project\\data\\reviews_Electronics_5.json does not exist",
     "output_type": "error",
     "traceback": [
      "\u001b[1;31m---------------------------------------------------------------------------\u001b[0m",
      "\u001b[1;31mFileNotFoundError\u001b[0m                         Traceback (most recent call last)",
      "Cell \u001b[1;32mIn [11], line 4\u001b[0m\n\u001b[0;32m      2\u001b[0m frames \u001b[39m=\u001b[39m []\n\u001b[0;32m      3\u001b[0m \u001b[39mfor\u001b[39;00m file \u001b[39min\u001b[39;00m files:\n\u001b[1;32m----> 4\u001b[0m     frame \u001b[39m=\u001b[39m get_dataframe_file(params \u001b[39m=\u001b[39;49m file, points\u001b[39m=\u001b[39;49m\u001b[39m50_000\u001b[39;49m, equalize\u001b[39m=\u001b[39;49m\u001b[39mTrue\u001b[39;49;00m)\n\u001b[0;32m      5\u001b[0m     frames\u001b[39m.\u001b[39mappend(frame)\n\u001b[0;32m      6\u001b[0m \u001b[39m# df = df.dropna()\u001b[39;00m\n",
      "File \u001b[1;32mc:\\Users\\matth\\Documents\\Homework\\COMP5630\\ML-Project\\preprocessing.py:22\u001b[0m, in \u001b[0;36mget_dataframe_file\u001b[1;34m(params, points, equalize)\u001b[0m\n\u001b[0;32m     20\u001b[0m     df \u001b[39m=\u001b[39m pd\u001b[39m.\u001b[39mread_csv( DATA_DIR \u001b[39m/\u001b[39m params[\u001b[39m'\u001b[39m\u001b[39mfile\u001b[39m\u001b[39m'\u001b[39m], encoding\u001b[39m=\u001b[39mparams[\u001b[39m'\u001b[39m\u001b[39mencoding\u001b[39m\u001b[39m'\u001b[39m], names\u001b[39m=\u001b[39mparams[\u001b[39m'\u001b[39m\u001b[39mrows\u001b[39m\u001b[39m'\u001b[39m])\n\u001b[0;32m     21\u001b[0m \u001b[39melif\u001b[39;00m params[\u001b[39m'\u001b[39m\u001b[39mfiletype\u001b[39m\u001b[39m'\u001b[39m] \u001b[39m==\u001b[39m \u001b[39m'\u001b[39m\u001b[39mjson\u001b[39m\u001b[39m'\u001b[39m:\n\u001b[1;32m---> 22\u001b[0m     df \u001b[39m=\u001b[39m pd\u001b[39m.\u001b[39;49mread_json( DATA_DIR \u001b[39m/\u001b[39;49m params[\u001b[39m'\u001b[39;49m\u001b[39mfile\u001b[39;49m\u001b[39m'\u001b[39;49m], encoding\u001b[39m=\u001b[39;49mparams[\u001b[39m'\u001b[39;49m\u001b[39mencoding\u001b[39;49m\u001b[39m'\u001b[39;49m], lines\u001b[39m=\u001b[39;49m\u001b[39mTrue\u001b[39;49;00m)\n\u001b[0;32m     24\u001b[0m \u001b[39mif\u001b[39;00m points:\n\u001b[0;32m     25\u001b[0m     df \u001b[39m=\u001b[39m df\u001b[39m.\u001b[39msample(n\u001b[39m=\u001b[39mpoints, random_state\u001b[39m=\u001b[39mRANDOM_STATE)\n",
      "File \u001b[1;32mc:\\Users\\matth\\Documents\\Homework\\COMP5630\\ML-Project\\venv\\lib\\site-packages\\pandas\\util\\_decorators.py:211\u001b[0m, in \u001b[0;36mdeprecate_kwarg.<locals>._deprecate_kwarg.<locals>.wrapper\u001b[1;34m(*args, **kwargs)\u001b[0m\n\u001b[0;32m    209\u001b[0m     \u001b[39melse\u001b[39;00m:\n\u001b[0;32m    210\u001b[0m         kwargs[new_arg_name] \u001b[39m=\u001b[39m new_arg_value\n\u001b[1;32m--> 211\u001b[0m \u001b[39mreturn\u001b[39;00m func(\u001b[39m*\u001b[39margs, \u001b[39m*\u001b[39m\u001b[39m*\u001b[39mkwargs)\n",
      "File \u001b[1;32mc:\\Users\\matth\\Documents\\Homework\\COMP5630\\ML-Project\\venv\\lib\\site-packages\\pandas\\util\\_decorators.py:331\u001b[0m, in \u001b[0;36mdeprecate_nonkeyword_arguments.<locals>.decorate.<locals>.wrapper\u001b[1;34m(*args, **kwargs)\u001b[0m\n\u001b[0;32m    325\u001b[0m \u001b[39mif\u001b[39;00m \u001b[39mlen\u001b[39m(args) \u001b[39m>\u001b[39m num_allow_args:\n\u001b[0;32m    326\u001b[0m     warnings\u001b[39m.\u001b[39mwarn(\n\u001b[0;32m    327\u001b[0m         msg\u001b[39m.\u001b[39mformat(arguments\u001b[39m=\u001b[39m_format_argument_list(allow_args)),\n\u001b[0;32m    328\u001b[0m         \u001b[39mFutureWarning\u001b[39;00m,\n\u001b[0;32m    329\u001b[0m         stacklevel\u001b[39m=\u001b[39mfind_stack_level(),\n\u001b[0;32m    330\u001b[0m     )\n\u001b[1;32m--> 331\u001b[0m \u001b[39mreturn\u001b[39;00m func(\u001b[39m*\u001b[39margs, \u001b[39m*\u001b[39m\u001b[39m*\u001b[39mkwargs)\n",
      "File \u001b[1;32mc:\\Users\\matth\\Documents\\Homework\\COMP5630\\ML-Project\\venv\\lib\\site-packages\\pandas\\io\\json\\_json.py:733\u001b[0m, in \u001b[0;36mread_json\u001b[1;34m(path_or_buf, orient, typ, dtype, convert_axes, convert_dates, keep_default_dates, numpy, precise_float, date_unit, encoding, encoding_errors, lines, chunksize, compression, nrows, storage_options)\u001b[0m\n\u001b[0;32m    730\u001b[0m \u001b[39mif\u001b[39;00m convert_axes \u001b[39mis\u001b[39;00m \u001b[39mNone\u001b[39;00m \u001b[39mand\u001b[39;00m orient \u001b[39m!=\u001b[39m \u001b[39m\"\u001b[39m\u001b[39mtable\u001b[39m\u001b[39m\"\u001b[39m:\n\u001b[0;32m    731\u001b[0m     convert_axes \u001b[39m=\u001b[39m \u001b[39mTrue\u001b[39;00m\n\u001b[1;32m--> 733\u001b[0m json_reader \u001b[39m=\u001b[39m JsonReader(\n\u001b[0;32m    734\u001b[0m     path_or_buf,\n\u001b[0;32m    735\u001b[0m     orient\u001b[39m=\u001b[39;49morient,\n\u001b[0;32m    736\u001b[0m     typ\u001b[39m=\u001b[39;49mtyp,\n\u001b[0;32m    737\u001b[0m     dtype\u001b[39m=\u001b[39;49mdtype,\n\u001b[0;32m    738\u001b[0m     convert_axes\u001b[39m=\u001b[39;49mconvert_axes,\n\u001b[0;32m    739\u001b[0m     convert_dates\u001b[39m=\u001b[39;49mconvert_dates,\n\u001b[0;32m    740\u001b[0m     keep_default_dates\u001b[39m=\u001b[39;49mkeep_default_dates,\n\u001b[0;32m    741\u001b[0m     numpy\u001b[39m=\u001b[39;49mnumpy,\n\u001b[0;32m    742\u001b[0m     precise_float\u001b[39m=\u001b[39;49mprecise_float,\n\u001b[0;32m    743\u001b[0m     date_unit\u001b[39m=\u001b[39;49mdate_unit,\n\u001b[0;32m    744\u001b[0m     encoding\u001b[39m=\u001b[39;49mencoding,\n\u001b[0;32m    745\u001b[0m     lines\u001b[39m=\u001b[39;49mlines,\n\u001b[0;32m    746\u001b[0m     chunksize\u001b[39m=\u001b[39;49mchunksize,\n\u001b[0;32m    747\u001b[0m     compression\u001b[39m=\u001b[39;49mcompression,\n\u001b[0;32m    748\u001b[0m     nrows\u001b[39m=\u001b[39;49mnrows,\n\u001b[0;32m    749\u001b[0m     storage_options\u001b[39m=\u001b[39;49mstorage_options,\n\u001b[0;32m    750\u001b[0m     encoding_errors\u001b[39m=\u001b[39;49mencoding_errors,\n\u001b[0;32m    751\u001b[0m )\n\u001b[0;32m    753\u001b[0m \u001b[39mif\u001b[39;00m chunksize:\n\u001b[0;32m    754\u001b[0m     \u001b[39mreturn\u001b[39;00m json_reader\n",
      "File \u001b[1;32mc:\\Users\\matth\\Documents\\Homework\\COMP5630\\ML-Project\\venv\\lib\\site-packages\\pandas\\io\\json\\_json.py:818\u001b[0m, in \u001b[0;36mJsonReader.__init__\u001b[1;34m(self, filepath_or_buffer, orient, typ, dtype, convert_axes, convert_dates, keep_default_dates, numpy, precise_float, date_unit, encoding, lines, chunksize, compression, nrows, storage_options, encoding_errors)\u001b[0m\n\u001b[0;32m    815\u001b[0m     \u001b[39mif\u001b[39;00m \u001b[39mnot\u001b[39;00m \u001b[39mself\u001b[39m\u001b[39m.\u001b[39mlines:\n\u001b[0;32m    816\u001b[0m         \u001b[39mraise\u001b[39;00m \u001b[39mValueError\u001b[39;00m(\u001b[39m\"\u001b[39m\u001b[39mnrows can only be passed if lines=True\u001b[39m\u001b[39m\"\u001b[39m)\n\u001b[1;32m--> 818\u001b[0m data \u001b[39m=\u001b[39m \u001b[39mself\u001b[39;49m\u001b[39m.\u001b[39;49m_get_data_from_filepath(filepath_or_buffer)\n\u001b[0;32m    819\u001b[0m \u001b[39mself\u001b[39m\u001b[39m.\u001b[39mdata \u001b[39m=\u001b[39m \u001b[39mself\u001b[39m\u001b[39m.\u001b[39m_preprocess_data(data)\n",
      "File \u001b[1;32mc:\\Users\\matth\\Documents\\Homework\\COMP5630\\ML-Project\\venv\\lib\\site-packages\\pandas\\io\\json\\_json.py:874\u001b[0m, in \u001b[0;36mJsonReader._get_data_from_filepath\u001b[1;34m(self, filepath_or_buffer)\u001b[0m\n\u001b[0;32m    866\u001b[0m     filepath_or_buffer \u001b[39m=\u001b[39m \u001b[39mself\u001b[39m\u001b[39m.\u001b[39mhandles\u001b[39m.\u001b[39mhandle\n\u001b[0;32m    867\u001b[0m \u001b[39melif\u001b[39;00m (\n\u001b[0;32m    868\u001b[0m     \u001b[39misinstance\u001b[39m(filepath_or_buffer, \u001b[39mstr\u001b[39m)\n\u001b[0;32m    869\u001b[0m     \u001b[39mand\u001b[39;00m filepath_or_buffer\u001b[39m.\u001b[39mlower()\u001b[39m.\u001b[39mendswith(\n\u001b[1;32m   (...)\u001b[0m\n\u001b[0;32m    872\u001b[0m     \u001b[39mand\u001b[39;00m \u001b[39mnot\u001b[39;00m file_exists(filepath_or_buffer)\n\u001b[0;32m    873\u001b[0m ):\n\u001b[1;32m--> 874\u001b[0m     \u001b[39mraise\u001b[39;00m \u001b[39mFileNotFoundError\u001b[39;00m(\u001b[39mf\u001b[39m\u001b[39m\"\u001b[39m\u001b[39mFile \u001b[39m\u001b[39m{\u001b[39;00mfilepath_or_buffer\u001b[39m}\u001b[39;00m\u001b[39m does not exist\u001b[39m\u001b[39m\"\u001b[39m)\n\u001b[0;32m    876\u001b[0m \u001b[39mreturn\u001b[39;00m filepath_or_buffer\n",
      "\u001b[1;31mFileNotFoundError\u001b[0m: File C:\\Users\\matth\\Documents\\Homework\\COMP5630\\ML-Project\\data\\reviews_Electronics_5.json does not exist"
     ]
    }
   ],
   "source": [
    "from preprocessing import get_dataframe_file\n",
    "frames = []\n",
    "for file in files:\n",
    "    frame = get_dataframe_file(params = file, points=50_000, equalize=True)\n",
    "    frames.append(frame)\n",
    "# df = df.dropna()"
   ]
  },
  {
   "cell_type": "code",
   "execution_count": 4,
   "id": "679e1713",
   "metadata": {},
   "outputs": [
    {
     "data": {
      "text/plain": [
       "124949"
      ]
     },
     "execution_count": 4,
     "metadata": {},
     "output_type": "execute_result"
    }
   ],
   "source": [
    "len(df)"
   ]
  },
  {
   "cell_type": "markdown",
   "id": "8cdc59bc",
   "metadata": {},
   "source": [
    "# Preprocess Data\n",
    "Split into training, testing, and validation sets, and vectorize the data"
   ]
  },
  {
   "cell_type": "code",
   "execution_count": 14,
   "id": "047a2154",
   "metadata": {},
   "outputs": [],
   "source": [
    "from sklearn.feature_extraction.text import CountVectorizer\n",
    "from preprocessing import get_subsets\n",
    "\n",
    "word_vectorizer = CountVectorizer(\n",
    "    min_df=0.0001, \n",
    "    max_df=0.7\n",
    " )\n",
    "X = df[\"reviewText\"].to_numpy()\n",
    "X = word_vectorizer.fit_transform(X)\n",
    "y = df['overall'].to_numpy()\n",
    "\n",
    "X_train, X_val, X_test, y_train, y_val, y_test = get_subsets(X,y, train_split=0.8, val_split=0.1, test_split=0.1)\n"
   ]
  },
  {
   "cell_type": "markdown",
   "id": "e370a703",
   "metadata": {},
   "source": [
    "# Visualize Data Distribution"
   ]
  },
  {
   "cell_type": "code",
   "execution_count": 15,
   "id": "c15c87cb",
   "metadata": {},
   "outputs": [
    {
     "data": {
      "image/png": "[encoded data removed]",
      "text/plain": [
       "<Figure size 640x480 with 1 Axes>"
      ]
     },
     "metadata": {},
     "output_type": "display_data"
    }
   ],
   "source": [
    "import matplotlib.pyplot as plt\n",
    "import numpy as np\n",
    "plt.bar(np.unique(y_train, return_counts=True)[0], np.unique(y_train, return_counts=True)[1])\n",
    "plt.xlabel(\"Rating\")\n",
    "plt.ylabel(\"Count\")\n",
    "plt.show()"
   ]
  },
  {
   "cell_type": "code",
   "execution_count": 16,
   "id": "fafbfaa4",
   "metadata": {},
   "outputs": [
    {
     "name": "stdout",
     "output_type": "stream",
     "text": [
      "Data and shapes:\n",
      "X_train: <class 'scipy.sparse._csr.csr_matrix'> of shape (99959, 20387)\n",
      "Y_train: <class 'numpy.ndarray'> of shape (99959,)\n"
     ]
    }
   ],
   "source": [
    "print(\"Data and shapes:\")\n",
    "print(\"X_train:\", type(X_train), \"of shape\", X_train.shape)\n",
    "print(\"Y_train:\", type(y_train), \"of shape\", y_train.shape)"
   ]
  },
  {
   "cell_type": "markdown",
   "id": "7f11c14f",
   "metadata": {},
   "source": [
    "# Training the Model"
   ]
  },
  {
   "cell_type": "code",
   "execution_count": 56,
   "id": "acac3c34",
   "metadata": {},
   "outputs": [
    {
     "name": "stderr",
     "output_type": "stream",
     "text": [
      "  0%|          | 0/500 [00:00<?, ?it/s]c:\\Users\\matth\\Documents\\Homework\\COMP5630\\ML-Project\\mlp.py:12: RuntimeWarning: overflow encountered in exp\n",
      "  return 1.0 / (1.0 + np.exp(-X))\n",
      "c:\\Users\\matth\\Documents\\Homework\\COMP5630\\ML-Project\\mlp.py:15: RuntimeWarning: overflow encountered in exp\n",
      "  a = 1.0 / (1.0 + np.exp(-X))\n",
      "100%|██████████| 500/500 [00:57<00:00,  8.64it/s]\n"
     ]
    },
    {
     "data": {
      "image/png": "[encoded data removed]",
      "text/plain": [
       "<Figure size 640x480 with 1 Axes>"
      ]
     },
     "metadata": {},
     "output_type": "display_data"
    }
   ],
   "source": [
    "from mlp import MultiLayerPerceptron\n",
    "clf = MultiLayerPerceptron(\n",
    "    epochs=500,\n",
    "    lr=0.1,\n",
    "    hidden_layers=[50, 20],\n",
    "    activation=\"sigmoid\",\n",
    ")\n",
    "clf.fit(X_train, y_train, X_val, y_val, batch_size=200)\n",
    "clf.plot_loss()"
   ]
  },
  {
   "cell_type": "code",
   "execution_count": 57,
   "id": "5e634ef0",
   "metadata": {},
   "outputs": [
    {
     "name": "stdout",
     "output_type": "stream",
     "text": [
      "Training accuracy: 0.525\n",
      "Testing accuracy: 0.53\n"
     ]
    }
   ],
   "source": [
    "print(f\"Training accuracy: {clf.score(X_train, y_train)}\")\n",
    "print(f\"Testing accuracy: {clf.score(X_test, y_test)}\")"
   ]
  },
  {
   "cell_type": "code",
   "execution_count": 60,
   "id": "4a59010c",
   "metadata": {},
   "outputs": [
    {
     "name": "stdout",
     "output_type": "stream",
     "text": [
      "              precision    recall  f1-score   support\n",
      "\n",
      "           1       0.00      0.00      0.00         3\n",
      "           2       0.00      0.00      0.00         9\n",
      "           3       0.20      0.11      0.14         9\n",
      "           4       0.00      0.00      0.00        23\n",
      "           5       0.58      0.93      0.72        56\n",
      "\n",
      "    accuracy                           0.53       100\n",
      "   macro avg       0.16      0.21      0.17       100\n",
      "weighted avg       0.35      0.53      0.41       100\n",
      "\n"
     ]
    },
    {
     "name": "stderr",
     "output_type": "stream",
     "text": [
      "c:\\Users\\matth\\Documents\\Homework\\COMP5630\\ML-Project\\venv\\lib\\site-packages\\sklearn\\metrics\\_classification.py:1334: UndefinedMetricWarning: Precision and F-score are ill-defined and being set to 0.0 in labels with no predicted samples. Use `zero_division` parameter to control this behavior.\n",
      "  _warn_prf(average, modifier, msg_start, len(result))\n",
      "c:\\Users\\matth\\Documents\\Homework\\COMP5630\\ML-Project\\venv\\lib\\site-packages\\sklearn\\metrics\\_classification.py:1334: UndefinedMetricWarning: Precision and F-score are ill-defined and being set to 0.0 in labels with no predicted samples. Use `zero_division` parameter to control this behavior.\n",
      "  _warn_prf(average, modifier, msg_start, len(result))\n",
      "c:\\Users\\matth\\Documents\\Homework\\COMP5630\\ML-Project\\venv\\lib\\site-packages\\sklearn\\metrics\\_classification.py:1334: UndefinedMetricWarning: Precision and F-score are ill-defined and being set to 0.0 in labels with no predicted samples. Use `zero_division` parameter to control this behavior.\n",
      "  _warn_prf(average, modifier, msg_start, len(result))\n"
     ]
    }
   ],
   "source": [
    "from sklearn.metrics import classification_report\n",
    "\n",
    "y_pred = clf.predict(X_test)\n",
    "cm = classification_report(y_test, y_pred)\n",
    "print(cm)"
   ]
  },
  {
   "cell_type": "markdown",
   "id": "7932bfcf",
   "metadata": {},
   "source": [
    "# Benchmarking"
   ]
  },
  {
   "cell_type": "code",
   "execution_count": 17,
   "id": "b03803e7",
   "metadata": {},
   "outputs": [
    {
     "name": "stderr",
     "output_type": "stream",
     "text": [
      "c:\\Users\\matth\\Documents\\Homework\\COMP5630\\ML-Project\\venv\\lib\\site-packages\\sklearn\\neural_network\\_multilayer_perceptron.py:709: UserWarning: Training interrupted by user.\n",
      "  warnings.warn(\"Training interrupted by user.\")\n"
     ]
    },
    {
     "data": {
      "text/html": [
       "<style>#sk-container-id-4 {color: black;background-color: white;}#sk-container-id-4 pre{padding: 0;}#sk-container-id-4 div.sk-toggleable {background-color: white;}#sk-container-id-4 label.sk-toggleable__label {cursor: pointer;display: block;width: 100%;margin-bottom: 0;padding: 0.3em;box-sizing: border-box;text-align: center;}#sk-container-id-4 label.sk-toggleable__label-arrow:before {content: \"▸\";float: left;margin-right: 0.25em;color: #696969;}#sk-container-id-4 label.sk-toggleable__label-arrow:hover:before {color: black;}#sk-container-id-4 div.sk-estimator:hover label.sk-toggleable__label-arrow:before {color: black;}#sk-container-id-4 div.sk-toggleable__content {max-height: 0;max-width: 0;overflow: hidden;text-align: left;background-color: #f0f8ff;}#sk-container-id-4 div.sk-toggleable__content pre {margin: 0.2em;color: black;border-radius: 0.25em;background-color: #f0f8ff;}#sk-container-id-4 input.sk-toggleable__control:checked~div.sk-toggleable__content {max-height: 200px;max-width: 100%;overflow: auto;}#sk-container-id-4 input.sk-toggleable__control:checked~label.sk-toggleable__label-arrow:before {content: \"▾\";}#sk-container-id-4 div.sk-estimator input.sk-toggleable__control:checked~label.sk-toggleable__label {background-color: #d4ebff;}#sk-container-id-4 div.sk-label input.sk-toggleable__control:checked~label.sk-toggleable__label {background-color: #d4ebff;}#sk-container-id-4 input.sk-hidden--visually {border: 0;clip: rect(1px 1px 1px 1px);clip: rect(1px, 1px, 1px, 1px);height: 1px;margin: -1px;overflow: hidden;padding: 0;position: absolute;width: 1px;}#sk-container-id-4 div.sk-estimator {font-family: monospace;background-color: #f0f8ff;border: 1px dotted black;border-radius: 0.25em;box-sizing: border-box;margin-bottom: 0.5em;}#sk-container-id-4 div.sk-estimator:hover {background-color: #d4ebff;}#sk-container-id-4 div.sk-parallel-item::after {content: \"\";width: 100%;border-bottom: 1px solid gray;flex-grow: 1;}#sk-container-id-4 div.sk-label:hover label.sk-toggleable__label {background-color: #d4ebff;}#sk-container-id-4 div.sk-serial::before {content: \"\";position: absolute;border-left: 1px solid gray;box-sizing: border-box;top: 0;bottom: 0;left: 50%;z-index: 0;}#sk-container-id-4 div.sk-serial {display: flex;flex-direction: column;align-items: center;background-color: white;padding-right: 0.2em;padding-left: 0.2em;position: relative;}#sk-container-id-4 div.sk-item {position: relative;z-index: 1;}#sk-container-id-4 div.sk-parallel {display: flex;align-items: stretch;justify-content: center;background-color: white;position: relative;}#sk-container-id-4 div.sk-item::before, #sk-container-id-4 div.sk-parallel-item::before {content: \"\";position: absolute;border-left: 1px solid gray;box-sizing: border-box;top: 0;bottom: 0;left: 50%;z-index: -1;}#sk-container-id-4 div.sk-parallel-item {display: flex;flex-direction: column;z-index: 1;position: relative;background-color: white;}#sk-container-id-4 div.sk-parallel-item:first-child::after {align-self: flex-end;width: 50%;}#sk-container-id-4 div.sk-parallel-item:last-child::after {align-self: flex-start;width: 50%;}#sk-container-id-4 div.sk-parallel-item:only-child::after {width: 0;}#sk-container-id-4 div.sk-dashed-wrapped {border: 1px dashed gray;margin: 0 0.4em 0.5em 0.4em;box-sizing: border-box;padding-bottom: 0.4em;background-color: white;}#sk-container-id-4 div.sk-label label {font-family: monospace;font-weight: bold;display: inline-block;line-height: 1.2em;}#sk-container-id-4 div.sk-label-container {text-align: center;}#sk-container-id-4 div.sk-container {/* jupyter's `normalize.less` sets `[hidden] { display: none; }` but bootstrap.min.css set `[hidden] { display: none !important; }` so we also need the `!important` here to be able to override the default hidden behavior on the sphinx rendered scikit-learn.org. See: https://github.com/scikit-learn/scikit-learn/issues/21755 */display: inline-block !important;position: relative;}#sk-container-id-4 div.sk-text-repr-fallback {display: none;}</style><div id=\"sk-container-id-4\" class=\"sk-top-container\"><div class=\"sk-text-repr-fallback\"><pre>MLPClassifier(activation=&#x27;logistic&#x27;, early_stopping=True,\n",
       "              hidden_layer_sizes=(50, 20), max_iter=500)</pre><b>In a Jupyter environment, please rerun this cell to show the HTML representation or trust the notebook. <br />On GitHub, the HTML representation is unable to render, please try loading this page with nbviewer.org.</b></div><div class=\"sk-container\" hidden><div class=\"sk-item\"><div class=\"sk-estimator sk-toggleable\"><input class=\"sk-toggleable__control sk-hidden--visually\" id=\"sk-estimator-id-4\" type=\"checkbox\" checked><label for=\"sk-estimator-id-4\" class=\"sk-toggleable__label sk-toggleable__label-arrow\">MLPClassifier</label><div class=\"sk-toggleable__content\"><pre>MLPClassifier(activation=&#x27;logistic&#x27;, early_stopping=True,\n",
       "              hidden_layer_sizes=(50, 20), max_iter=500)</pre></div></div></div></div></div>"
      ],
      "text/plain": [
       "MLPClassifier(activation='logistic', early_stopping=True,\n",
       "              hidden_layer_sizes=(50, 20), max_iter=500)"
      ]
     },
     "execution_count": 17,
     "metadata": {},
     "output_type": "execute_result"
    }
   ],
   "source": [
    "from sklearn.neural_network import MLPClassifier\n",
    "clf = MLPClassifier(\n",
    "    hidden_layer_sizes=(50, 20),\n",
    "    activation=\"logistic\",\n",
    "    max_iter=500,\n",
    "    early_stopping=True,\n",
    "    validation_fraction=0.1,\n",
    ")\n",
    "clf.fit(X_train, y_train)"
   ]
  },
  {
   "cell_type": "code",
   "execution_count": 21,
   "id": "118e4419",
   "metadata": {},
   "outputs": [
    {
     "data": {
      "text/html": [
       "<style>#sk-container-id-5 {color: black;background-color: white;}#sk-container-id-5 pre{padding: 0;}#sk-container-id-5 div.sk-toggleable {background-color: white;}#sk-container-id-5 label.sk-toggleable__label {cursor: pointer;display: block;width: 100%;margin-bottom: 0;padding: 0.3em;box-sizing: border-box;text-align: center;}#sk-container-id-5 label.sk-toggleable__label-arrow:before {content: \"▸\";float: left;margin-right: 0.25em;color: #696969;}#sk-container-id-5 label.sk-toggleable__label-arrow:hover:before {color: black;}#sk-container-id-5 div.sk-estimator:hover label.sk-toggleable__label-arrow:before {color: black;}#sk-container-id-5 div.sk-toggleable__content {max-height: 0;max-width: 0;overflow: hidden;text-align: left;background-color: #f0f8ff;}#sk-container-id-5 div.sk-toggleable__content pre {margin: 0.2em;color: black;border-radius: 0.25em;background-color: #f0f8ff;}#sk-container-id-5 input.sk-toggleable__control:checked~div.sk-toggleable__content {max-height: 200px;max-width: 100%;overflow: auto;}#sk-container-id-5 input.sk-toggleable__control:checked~label.sk-toggleable__label-arrow:before {content: \"▾\";}#sk-container-id-5 div.sk-estimator input.sk-toggleable__control:checked~label.sk-toggleable__label {background-color: #d4ebff;}#sk-container-id-5 div.sk-label input.sk-toggleable__control:checked~label.sk-toggleable__label {background-color: #d4ebff;}#sk-container-id-5 input.sk-hidden--visually {border: 0;clip: rect(1px 1px 1px 1px);clip: rect(1px, 1px, 1px, 1px);height: 1px;margin: -1px;overflow: hidden;padding: 0;position: absolute;width: 1px;}#sk-container-id-5 div.sk-estimator {font-family: monospace;background-color: #f0f8ff;border: 1px dotted black;border-radius: 0.25em;box-sizing: border-box;margin-bottom: 0.5em;}#sk-container-id-5 div.sk-estimator:hover {background-color: #d4ebff;}#sk-container-id-5 div.sk-parallel-item::after {content: \"\";width: 100%;border-bottom: 1px solid gray;flex-grow: 1;}#sk-container-id-5 div.sk-label:hover label.sk-toggleable__label {background-color: #d4ebff;}#sk-container-id-5 div.sk-serial::before {content: \"\";position: absolute;border-left: 1px solid gray;box-sizing: border-box;top: 0;bottom: 0;left: 50%;z-index: 0;}#sk-container-id-5 div.sk-serial {display: flex;flex-direction: column;align-items: center;background-color: white;padding-right: 0.2em;padding-left: 0.2em;position: relative;}#sk-container-id-5 div.sk-item {position: relative;z-index: 1;}#sk-container-id-5 div.sk-parallel {display: flex;align-items: stretch;justify-content: center;background-color: white;position: relative;}#sk-container-id-5 div.sk-item::before, #sk-container-id-5 div.sk-parallel-item::before {content: \"\";position: absolute;border-left: 1px solid gray;box-sizing: border-box;top: 0;bottom: 0;left: 50%;z-index: -1;}#sk-container-id-5 div.sk-parallel-item {display: flex;flex-direction: column;z-index: 1;position: relative;background-color: white;}#sk-container-id-5 div.sk-parallel-item:first-child::after {align-self: flex-end;width: 50%;}#sk-container-id-5 div.sk-parallel-item:last-child::after {align-self: flex-start;width: 50%;}#sk-container-id-5 div.sk-parallel-item:only-child::after {width: 0;}#sk-container-id-5 div.sk-dashed-wrapped {border: 1px dashed gray;margin: 0 0.4em 0.5em 0.4em;box-sizing: border-box;padding-bottom: 0.4em;background-color: white;}#sk-container-id-5 div.sk-label label {font-family: monospace;font-weight: bold;display: inline-block;line-height: 1.2em;}#sk-container-id-5 div.sk-label-container {text-align: center;}#sk-container-id-5 div.sk-container {/* jupyter's `normalize.less` sets `[hidden] { display: none; }` but bootstrap.min.css set `[hidden] { display: none !important; }` so we also need the `!important` here to be able to override the default hidden behavior on the sphinx rendered scikit-learn.org. See: https://github.com/scikit-learn/scikit-learn/issues/21755 */display: inline-block !important;position: relative;}#sk-container-id-5 div.sk-text-repr-fallback {display: none;}</style><div id=\"sk-container-id-5\" class=\"sk-top-container\"><div class=\"sk-text-repr-fallback\"><pre>RandomForestClassifier(max_depth=50)</pre><b>In a Jupyter environment, please rerun this cell to show the HTML representation or trust the notebook. <br />On GitHub, the HTML representation is unable to render, please try loading this page with nbviewer.org.</b></div><div class=\"sk-container\" hidden><div class=\"sk-item\"><div class=\"sk-estimator sk-toggleable\"><input class=\"sk-toggleable__control sk-hidden--visually\" id=\"sk-estimator-id-5\" type=\"checkbox\" checked><label for=\"sk-estimator-id-5\" class=\"sk-toggleable__label sk-toggleable__label-arrow\">RandomForestClassifier</label><div class=\"sk-toggleable__content\"><pre>RandomForestClassifier(max_depth=50)</pre></div></div></div></div></div>"
      ],
      "text/plain": [
       "RandomForestClassifier(max_depth=50)"
      ]
     },
     "execution_count": 21,
     "metadata": {},
     "output_type": "execute_result"
    }
   ],
   "source": [
    "from sklearn.ensemble import RandomForestClassifier\n",
    "clf = RandomForestClassifier(\n",
    "    n_estimators=100,\n",
    "    max_depth=50,\n",
    ")\n",
    "\n",
    "clf.fit(X_train, y_train)"
   ]
  },
  {
   "cell_type": "code",
   "execution_count": 20,
   "id": "e9fce156",
   "metadata": {},
   "outputs": [
    {
     "name": "stdout",
     "output_type": "stream",
     "text": [
      "Training accuracy: 0.7097509979091428\n",
      "Testing accuracy: 0.6737895158063225\n",
      "              precision    recall  f1-score   support\n",
      "\n",
      "           1       0.53      0.51      0.52       699\n",
      "           2       0.40      0.00      0.01       570\n",
      "           3       0.44      0.41      0.43      1310\n",
      "           4       0.46      0.28      0.35      2456\n",
      "           5       0.75      0.92      0.83      7460\n",
      "\n",
      "    accuracy                           0.67     12495\n",
      "   macro avg       0.52      0.42      0.43     12495\n",
      "weighted avg       0.63      0.67      0.63     12495\n",
      "\n"
     ]
    }
   ],
   "source": [
    "from sklearn.metrics import classification_report\n",
    "pred = clf.predict(X_test)\n",
    "print(f\"Training accuracy: {clf.score(X_train, y_train)}\")\n",
    "print(f\"Testing accuracy: {clf.score(X_test, y_test)}\")\n",
    "report = classification_report(y_test, pred)\n",
    "print(report)"
   ]
  },
  {
   "cell_type": "code",
   "execution_count": 18,
   "id": "1d1624a4",
   "metadata": {},
   "outputs": [
    {
     "ename": "ValueError",
     "evalue": "matmul: Input operand 1 has a mismatch in its core dimension 0, with gufunc signature (n?,k),(k,m?)->(n?,m?) (size 2 is different from 5)",
     "output_type": "error",
     "traceback": [
      "\u001b[1;31m---------------------------------------------------------------------------\u001b[0m",
      "\u001b[1;31mValueError\u001b[0m                                Traceback (most recent call last)",
      "Cell \u001b[1;32mIn [18], line 2\u001b[0m\n\u001b[0;32m      1\u001b[0m p \u001b[39m=\u001b[39m clf\u001b[39m.\u001b[39mpredict_proba(X_test)\n\u001b[1;32m----> 2\u001b[0m p \u001b[39m=\u001b[39m p \u001b[39m@\u001b[39;49m np\u001b[39m.\u001b[39;49marray([\u001b[39m-\u001b[39;49m\u001b[39m1\u001b[39;49m,\u001b[39m1\u001b[39;49m])\u001b[39m.\u001b[39;49mreshape(\u001b[39m2\u001b[39;49m,\u001b[39m1\u001b[39;49m)\n\u001b[0;32m      3\u001b[0m \u001b[39mprint\u001b[39m(\u001b[39mf\u001b[39m\u001b[39m\"\u001b[39m\u001b[39mMost positive example is \u001b[39m\u001b[39m{\u001b[39;00mnp\u001b[39m.\u001b[39margmax(p)\u001b[39m}\u001b[39;00m\u001b[39m\"\u001b[39m)\n\u001b[0;32m      4\u001b[0m \u001b[39mprint\u001b[39m(\u001b[39mf\u001b[39m\u001b[39m\"\u001b[39m\u001b[39mMost negative example is \u001b[39m\u001b[39m{\u001b[39;00mnp\u001b[39m.\u001b[39margmin(p)\u001b[39m}\u001b[39;00m\u001b[39m\"\u001b[39m)\n",
      "\u001b[1;31mValueError\u001b[0m: matmul: Input operand 1 has a mismatch in its core dimension 0, with gufunc signature (n?,k),(k,m?)->(n?,m?) (size 2 is different from 5)"
     ]
    }
   ],
   "source": [
    "\n",
    "p = clf.predict_proba(X_test)\n",
    "p = p @ np.array([-1,1]).reshape(2,1)\n",
    "print(f\"Most positive example is {np.argmax(p)}\")\n",
    "print(f\"Most negative example is {np.argmin(p)}\")\n",
    "print(f\"Most neutral example is {np.argmin(np.abs(p))}\")\n",
    "\n",
    "p = (p*0.5 + 0.5)\n",
    "incorrect_amount = p - y_test.reshape(-1,1)\n",
    "print(f'Most incorrect example is {np.argmax(np.abs(incorrect_amount))}')\n"
   ]
  },
  {
   "cell_type": "code",
   "execution_count": 165,
   "id": "5f119f79",
   "metadata": {},
   "outputs": [
    {
     "name": "stdout",
     "output_type": "stream",
     "text": [
      "Predicted: 1 [1.]\n",
      "Actual: 1\n",
      "['one' 'has' 'just' 'you' 'be' 'are' 'right' 'as' 'what' 'with' 'br'\n",
      " 'violence' 'which' 'from' 'go' 'not' 'or' 'no' 'on' 'city' 'an' 'where'\n",
      " 'all' 'have' 'so' 'more' 'far' 'fact' 'audiences' 'around' 'ever' 'who'\n",
      " 'out' 'get' 'well' 'middle' 'into' 'experience' 'if' 'can' 'side'\n",
      " 'one of' 'of the' 'this is' 'br br' 'br the' 'from the' 'in the' 'it is'\n",
      " 'as that' 'that is' 'is the' 'to the' 'all the' 'on the' 'more so'\n",
      " 'that it' 'out for' 'and get' 'with it' 'what is' 'you can' 'very' 'time'\n",
      " 'sense' 'realism' 'only' 'he' 'down' 'pat' 'see' 'by' 'written' 'his'\n",
      " 'life' 'things' 'rather' 'than' 'sets' 'done' 'sense of' 'of realism'\n",
      " 'not only' 'by the' 'but it' 'written and' 'rather than' 'and the' 'way'\n",
      " 'dialogue' 'characters' 'even' 'serial' 'killer' 'while' 'some' 'style'\n",
      " 'us' 'most' 'at' 'years' 'been' 'she' 'her' 'young' 'woman' 'interesting'\n",
      " 'the dialogue' 'dialogue is' 'the characters' 'characters are'\n",
      " 'serial killer' 'of us' 'the most' 'in this' 'young woman' 'of his'\n",
      " 'there' 'make' 'film' 'drama' 'we' '10' 'in his' 'with his' 'the film'\n",
      " 'to see' 'play' 'director' 'action' 'these' 'another' 'world' 'own'\n",
      " 'gets' 'picture' 'big' 'best' 'case' 'good' 'talented' 'cast' 'come'\n",
      " 'work' 'to be' 'the director' 'the action' 'or another' 'we are'\n",
      " 'the picture' 'big city' 'the best' 'my' 'story' 'having' 'last' 'paul'\n",
      " 'performance' 'roles' 'up' 'makes' 'believable' 'had' 'the last' 'of her'\n",
      " 'but that' 'is believable' 'believable and' 'for this' 'sure' 'series'\n",
      " 'today' 'bring' 'back' 'pace' 'any' 'up on' 'and this' 'bad'\n",
      " 'performances' 'hard' 'original' 'also' 'fit' 'made' 'and it'\n",
      " 'the original' 'that made' 'as it' 'here' 'films' 'country' 'played'\n",
      " 'end' 'least' 'and is' 'the end' 'is far' 'at least' 'gut' 'low' 'itself'\n",
      " 'something' 'better' 'is one' 'as the' 'beautiful' 'care' 'much' 'year'\n",
      " 'psycho' 'since' 'br as' 'the story' 'again' 'long' 'before' 'actually'\n",
      " 'however' 'true' 'beyond' 'evil' 'top' 'take' 'ahead' 'him' 'screen'\n",
      " 'to play' 'played by' 'go ahead' 'who makes' 'because' 'keep' 'does'\n",
      " 'cut' 'to bring' 'br in' 'to keep' 'kind' 'drawn' 'town' 'nonsense'\n",
      " 'encounters' 'kind of' 'with all' 'in that' 'this one' 'exception'\n",
      " 'character' 'and of' 'as he' 'the character' 'character of' 'film in'\n",
      " 'beginning' 'both' 'wait' 'someone' 'with one' 'if it' 'cinema' 'anyone'\n",
      " 'the cinema' 'perfectly' 'artist' 'enough' 'guy' 'undeniably' 'burning'\n",
      " 'actually very' 'best of' 'can be' 'to her' 'bad guy' 'aspects'\n",
      " 'that make' 'all of' 'carries' 'matter' 'sudden' 'worse' 'over' 'tape'\n",
      " 'in fact' 'to take' 'part' 'who can' 'though' 'role' 'the role' 'genre'\n",
      " 'jennifer' 'wants' 'reality' 'audience' 'whoever' 'is an' 'at work'\n",
      " 'into the' 'wants to' 'what it' 'picture br' 'once' 'spirit' 'behind'\n",
      " 'end br' 'able' 'stand' 'america' 'typical' 'able to' 'conflict'\n",
      " 'starring' 'law' 'entirely' 'dirty' 'puts' 'becomes' 'north' 'course'\n",
      " 'helps' 'brought' 'upon' 'within' 'two' 'ray' 'greatly' 'effective'\n",
      " 'tactics' 'manages' 'justice' 'between' 'unique' 'lives' 'that has'\n",
      " 'done and' 'not so' 'the audience' 'something of' 'have brought'\n",
      " 'manages to' 'distinctive' 'police' 'second' 'draws' 'small' 'murder'\n",
      " 'works' 'question' 'the second' 'and as' 'her life' 'in small' 'directed'\n",
      " 'successful' 'creates' 'approach' 'himself' 'satisfaction' 'portraying'\n",
      " 'through' 'directed by' 'his own' 'him to' 'he is' 'part of' 'the films'\n",
      " 'ultimately' 'gradually' 'without' 'deliberate' 'impossible' 'provide'\n",
      " 'behind the' 'between the' 'since the' 'impossible to' 'film that'\n",
      " 'tension' 'gave' 'it interesting' 'because of' 'purely' 'or at' 'is in'\n",
      " 'no matter' 'to this' 'the serial' 'front' 'one to' 'just as' 'but at'\n",
      " 'of course' 'in front' 'front of' 'have him' 'him in' 'has made' 'camera'\n",
      " 'her character' 'the camera' 'hold' 'james' 'it had' 'personal'\n",
      " 'continuity' 'local' 'held' 'one the' 'events' 'level' 'working'\n",
      " 'and that' 'as well' 'well as' 'whose' 'supporting' 'through the' 'stuff'\n",
      " 'anyone who' 'screenplay' 'charles' 'spencer' 'sees' 'benefits'\n",
      " 'she sees' 'his way' 'and he' 'he does' 'to end' 'so he' 'counterpart'\n",
      " 'clint' 'eastwood' 'credibility' 'methods' 'impact' 'clint eastwood'\n",
      " 'is where' 'ended' 'found' 'day' 'seeing' 'heart' 'ended up' 'the law'\n",
      " 'in seeing' 'the screen' 'mark' 'settled' 'from there' 'includes'\n",
      " 'necessary' 'often' 'knowing' 'elements' 'perfect' 'popular' 'form'\n",
      " 'criminals' 'engaging' 'knowing the' 'albert' 'stage' 'convincing' 'five'\n",
      " 'upon the' 'that of' 'from beginning' 'beginning to' 'and talented'\n",
      " 'all but' 'and becomes' 'interesting and' 'moral' 'in supporting'\n",
      " 'supporting roles' 'investigation' 'material' 'definitely' 'small town'\n",
      " 'beautiful and' 'is well' 'well written' 'presence' 'that makes' 'brand'\n",
      " 'philosophy' 'harry' 'focus' 'within the' 'makes for' 'bond' 'bar'\n",
      " 'james bond' 'the perfect' 'it even' 'even if' 'finds' 'her to'\n",
      " 'the violence' 'keeps' 'elsewhere' 'the very' 'of one' 'as she' 'limited'\n",
      " 'the unique' 'traumatic' 'discovers' 'of and' 'quickly' 'the screenplay'\n",
      " 'from reality' 'is typical' 'convincing and' 'the guy' 'the local'\n",
      " 'it only' 'way which' 'from seeing' 'him for' 'the middle' 'course this'\n",
      " 'possibly' 'red' 'the burning' 'the red' 'screen time' 'involving'\n",
      " 'not one' 'screen and' 'individual' 'side of' 'sean' 'connery'\n",
      " 'sean connery' 'vacation' 'the five' 'much to' 'chair' 'involves'\n",
      " 'in any' 'cinematic' 'the things' 'things that' 'the bad' 'victims'\n",
      " 'the victims' 'which he' 'us that' 'parallels' 'department' 'that have'\n",
      " 'ordered' 'made of' 'come from' 'middle of' 'smith' 'had been'\n",
      " 'cinema and' 'typical of' 'of in' 'andy' 'joseph' 'or as' 'adds'\n",
      " 'make this' 'once again' 'steps' 'is he' 'fascination' 'this character'\n",
      " 'character with' 'elements that' 'catch' 'role of' 'killer in' 'offering'\n",
      " 'genuinely' 'satisfying' 'it impossible' 'gap' 'bennett' 'material and'\n",
      " 'here in' 'who we' 'we all' '1976' 'portrayal' 'portrayal of' 'blend'\n",
      " 'down in' 'gave us' 'that all' 'vigilante' 'fourth' 'the fourth'\n",
      " 'found in' 'recent' 'camera and' 'to that' 'and out' 'determination'\n",
      " 'swift' 'than ever' 'wait to' 'the series' 'the elements' 'vengeance'\n",
      " 'freedom' 'ever been' 'this country' 'though is' 'are well' 'is able'\n",
      " 'aspects of' 'successful in' 'code' 'world that' 'supporting cast' 'link'\n",
      " 'proverbial' 'both in' 'dear' 'and action' 'on with' 'it by' 'can wait'\n",
      " 'the kind' 'day br' 'establishing' 'focus on' 'of stuff' 'robinson' 'mrs'\n",
      " 'continues' 'essence' 'take care' 'care of' 'and made' 'directs'\n",
      " 'made the' 'these films' 'keep it' 'seven' 'seven years' 'edged'\n",
      " 'very limited' 'and works' 'years since' 'character but' 'response'\n",
      " 'films so' 'is entirely' 'definitely not' 'essence of' 'smith is'\n",
      " 'performance that' 'as with' 'the supporting' 'cast includes' 'where we'\n",
      " 'least have' 'resistance' 'that works' 'san' 'francisco' 'epitome'\n",
      " 'san francisco' 'the epitome' 'epitome of' 'pierce' 'back into'\n",
      " 'that wants' 'superiors' 'of justice' 'drama and' 'arguably' 'take his'\n",
      " 'inspector' 'the essence' 'take some' 'carrying' 'get on' 'she manages'\n",
      " 'sherlock' 'holmes' 'sherlock holmes' 'conceived' 'for better'\n",
      " 'reality the' 'earl' 'be found' 'snappy' 'screenplay by' 'fit into'\n",
      " 'murder in' 'stand out' 'nancy' 'dynamic' 'brand of' 'successfully'\n",
      " 'links' 'does it' 'vulnerability' 'evil and' 'chief' 'gets his' 'icon'\n",
      " 'of not' 'makes her' 'him around' 'of freedom' 'homicide' 'far beyond'\n",
      " 'only on' 'films he' 'is arguably' 'just enough' 'amid' 'employed'\n",
      " 'better or' 'or worse' 'it helps' 'the drama' 'and starring'\n",
      " 'from having' 'story itself' 'at heart' 'drake' 'laced' 'arguably the'\n",
      " 'he lives' 'dirty harry' 'country and' 'blend of' 'for and' 'so popular'\n",
      " 'evokes' 'freedom and' 'style the' 'establishes' 'who ever' 'anyone but'\n",
      " 'events that' 'time so' 'of drama' 'it what' 'derived' 'derived from'\n",
      " 'we come' 'her portrayal' 'territory' 'finds himself' 'in top' 'pursuing'\n",
      " 'mick' 'deed' 'triumphs' 'the criminals' 'smack' 'character so'\n",
      " 'which adds' 'that gave' 'an individual' 'his big' 'tape and'\n",
      " 'action the' 'facility' 'police chief' 'it adds' 'by and' 'in san'\n",
      " 'only his' 'visceral' 'phrases' 'rathbone' 'and convincing' 'basil'\n",
      " 'pioneers' 'fulfilling' 'and quickly' 'locke' 'has long']\n"
     ]
    }
   ],
   "source": [
    "example = 6197\n",
    "print(f\"Predicted: {best_clf.predict(X_test[example])[0]} {p[example]}\\nActual: {y_test[example]}\")\n",
    "print(word_vectorizer.inverse_transform(X_test[example])[0])\n"
   ]
  },
  {
   "cell_type": "markdown",
   "id": "38f74f92",
   "metadata": {},
   "source": [
    "## Runs\n",
    "1. 89.98: (10,5), Logisitic, Early Stopping\n",
    "2. 89.95: (10,5), Relu, Early Stopping,\n",
    "3. 89.71: (5), Relu, Early Stopping\n",
    "4. 85.12: (5), Relu, \n",
    "5. 91.11: (5), Relu, Early Stopping, 2-Grams"
   ]
  },
  {
   "cell_type": "markdown",
   "id": "ef08a055",
   "metadata": {},
   "source": [
    "# Training"
   ]
  },
  {
   "cell_type": "code",
   "execution_count": null,
   "id": "816bfbfc",
   "metadata": {},
   "outputs": [],
   "source": [
    "from sympy import Lambda, Symbol\n",
    "from training import matrix_train\n",
    "\n",
    "\n",
    "x = Symbol(\"x\")\n",
    "\n",
    "\n",
    "# each axis must be an iterable. if you want to use a constant, wrap it in an iterable of len 1\n",
    "hyperparameter_matrix = {\n",
    "    \"epochs\": np.logspace(np.log10(100), np.log10(100000), num=20, dtype=\"int64\"),\n",
    "    \"lr\": np.logspace(np.log10(.00001), np.log10(.1), num=20),\n",
    "    \"hidden_layers\": [5, 6, 7],\n",
    "    \"neurons_per_layer\": [3],\n",
    "    \"activation\": [Lambda(x, x**2)],\n",
    "}\n",
    "\n",
    "best_params = matrix_train(hyperparameter_matrix, MultiLayerPerceptron, X_train, y_train, X_test, y_test)\n",
    "\n",
    "print(best_params)\n",
    "# mlp = MultiLayerPerceptron(**best_params)\n"
   ]
  },
  {
   "cell_type": "markdown",
   "id": "67082690",
   "metadata": {},
   "source": [
    "# Performance"
   ]
  },
  {
   "cell_type": "code",
   "execution_count": null,
   "id": "5d1ef1d5",
   "metadata": {},
   "outputs": [],
   "source": [
    "from analysis import accuracy, confusion, report\n",
    "\n",
    "\n",
    "mlp = MultiLayerPerceptron(**best_params)\n",
    "mlp.fit(X_train, y_train)\n",
    "\n",
    "# print(accuracy(mlp.predict(X_test), y_test))\n",
    "# print(confusion(mlp.predict(X_test), y_test))\n",
    "print(report(mlp.predict(X_test), y_test))\n"
   ]
  },
  {
   "cell_type": "markdown",
   "id": "e7f7f405",
   "metadata": {},
   "source": [
    "# Benchmarking"
   ]
  },
  {
   "cell_type": "code",
   "execution_count": null,
   "id": "25e4e640",
   "metadata": {},
   "outputs": [],
   "source": [
    "# TODO utilize other classifiers and compare performance"
   ]
  }
 ],
 "metadata": {
  "kernelspec": {
   "display_name": "Python 3 (ipykernel)",
   "language": "python",
   "name": "python3"
  },
  "language_info": {
   "codemirror_mode": {
    "name": "ipython",
    "version": 3
   },
   "file_extension": ".py",
   "mimetype": "text/x-python",
   "name": "python",
   "nbconvert_exporter": "python",
   "pygments_lexer": "ipython3",
   "version": "3.10.6"
  },
  "vscode": {
   "interpreter": {
    "hash": "eaf02dffba55afcb757f8661e47ea199414fefb6fedafc1622a26ab926d7da3f"
   }
  }
 },
 "nbformat": 4,
 "nbformat_minor": 5
}
