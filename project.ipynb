{
 "cells": [
  {
   "cell_type": "markdown",
   "id": "9de3eddd",
   "metadata": {},
   "source": [
    "# Notebook Setup\n",
    "Installs necessary requirements and configures proper notebook behavior  \n",
    "Note: The notebook assumes you are using the base conda environment"
   ]
  },
  {
   "cell_type": "code",
   "execution_count": 24,
   "id": "c506dc9e",
   "metadata": {},
   "outputs": [
    {
     "name": "stdout",
     "output_type": "stream",
     "text": [
      "^C\n",
      "Requirement already satisfied: kaggle in c:\\users\\matth\\anaconda3\\envs\\comp5630\\lib\\site-packages (1.5.12)\n",
      "Requirement already satisfied: requests in c:\\users\\matth\\anaconda3\\envs\\comp5630\\lib\\site-packages (from kaggle) (2.28.1)\n",
      "Requirement already satisfied: tqdm in c:\\users\\matth\\anaconda3\\envs\\comp5630\\lib\\site-packages (from kaggle) (4.64.1)\n",
      "Requirement already satisfied: six>=1.10 in c:\\users\\matth\\anaconda3\\envs\\comp5630\\lib\\site-packages (from kaggle) (1.16.0)\n",
      "Requirement already satisfied: urllib3 in c:\\users\\matth\\anaconda3\\envs\\comp5630\\lib\\site-packages (from kaggle) (1.26.12)\n",
      "Requirement already satisfied: certifi in c:\\users\\matth\\anaconda3\\envs\\comp5630\\lib\\site-packages (from kaggle) (2022.9.24)\n",
      "Requirement already satisfied: python-dateutil in c:\\users\\matth\\anaconda3\\envs\\comp5630\\lib\\site-packages (from kaggle) (2.8.2)\n",
      "Requirement already satisfied: python-slugify in c:\\users\\matth\\anaconda3\\envs\\comp5630\\lib\\site-packages (from kaggle) (6.1.2)\n",
      "Requirement already satisfied: text-unidecode>=1.3 in c:\\users\\matth\\anaconda3\\envs\\comp5630\\lib\\site-packages (from python-slugify->kaggle) (1.3)\n",
      "Requirement already satisfied: idna<4,>=2.5 in c:\\users\\matth\\anaconda3\\envs\\comp5630\\lib\\site-packages (from requests->kaggle) (3.4)\n",
      "Requirement already satisfied: charset-normalizer<3,>=2 in c:\\users\\matth\\anaconda3\\envs\\comp5630\\lib\\site-packages (from requests->kaggle) (2.0.4)\n",
      "Requirement already satisfied: colorama in c:\\users\\matth\\anaconda3\\envs\\comp5630\\lib\\site-packages (from tqdm->kaggle) (0.4.5)\n",
      "Requirement already satisfied: python-dotenv in c:\\users\\matth\\anaconda3\\envs\\comp5630\\lib\\site-packages (0.21.0)\n",
      "The autoreload extension is already loaded. To reload it, use:\n",
      "  %reload_ext autoreload\n",
      "Notebook setup has completed\n"
     ]
    }
   ],
   "source": [
    "import sys\n",
    "\n",
    "requirements = [\n",
    "    \"kaggle\",\n",
    "    \"python-dotenv\",\n",
    "]\n",
    "\n",
    "for requirement in requirements:\n",
    "    !{sys.executable} -m pip install {requirement}\n",
    "    \n",
    "%load_ext autoreload\n",
    "%autoreload 2\n",
    "    \n",
    "print(\"Notebook setup has completed\")\n",
    "\n",
    "del requirement, requirements"
   ]
  },
  {
   "cell_type": "markdown",
   "id": "05b600f8",
   "metadata": {},
   "source": [
    "# Environment Setup\n",
    "Downloads configured dataset and performs necessary environment bootstrapping"
   ]
  },
  {
   "cell_type": "code",
   "execution_count": 25,
   "id": "a61fb28a",
   "metadata": {},
   "outputs": [
    {
     "name": "stdout",
     "output_type": "stream",
     "text": [
      "Environment setup has completed\n"
     ]
    }
   ],
   "source": [
    "from environment import setup\n",
    "\n",
    "# Please rename .env-template to .env and adjust values as needed\n",
    "setup()\n",
    "\n",
    "print(\"Environment setup has completed\")\n",
    "\n",
    "del setup"
   ]
  },
  {
   "cell_type": "markdown",
   "id": "8cdc59bc",
   "metadata": {},
   "source": [
    "# Sandbox\n",
    "Available data split into training, testing, and validation sets"
   ]
  },
  {
   "cell_type": "code",
   "execution_count": 26,
   "id": "047a2154",
   "metadata": {},
   "outputs": [],
   "source": [
    "from infrastructure import get_subsets\n",
    "\n",
    "\n",
    "X_train, X_test, X_validate, y_train, y_test, y_validate = get_subsets()\n",
    "\n",
    "# Sandbox\n",
    "\n",
    "del get_subsets"
   ]
  },
  {
   "cell_type": "markdown",
   "id": "0bd30b7f",
   "metadata": {},
   "source": [
    "# Implementation"
   ]
  },
  {
   "cell_type": "code",
   "execution_count": 27,
   "id": "ecf2bbaa",
   "metadata": {},
   "outputs": [],
   "source": [
    "import numpy as np\n",
    "\n",
    "\n",
    "class MultiLayerPerceptron:\n",
    "    def __init__(self):\n",
    "        pass\n",
    "    \n",
    "    def fit(self, X: np.ndarray, y: np.ndarray) -> None:\n",
    "        pass\n",
    "    \n",
    "    def predict(self, X: np.ndarray) -> np.ndarray:\n",
    "        pass"
   ]
  },
  {
   "cell_type": "markdown",
   "id": "67082690",
   "metadata": {},
   "source": [
    "# Performance"
   ]
  },
  {
   "cell_type": "code",
   "execution_count": null,
   "id": "5d1ef1d5",
   "metadata": {},
   "outputs": [],
   "source": [
    "from analysis import report\n",
    "\n",
    "\n",
    "mlp = MultiLayerPerceptron()\n",
    "mlp.fit(X_train, y_train)\n",
    "\n",
    "print(report(mlp.predict(X_test), y_test))\n",
    "\n",
    "del report"
   ]
  },
  {
   "cell_type": "markdown",
   "id": "e7f7f405",
   "metadata": {},
   "source": [
    "# Benchmarking"
   ]
  },
  {
   "cell_type": "code",
   "execution_count": 30,
   "id": "25e4e640",
   "metadata": {},
   "outputs": [],
   "source": [
    "# TODO utilize other classifiers and compare performance\n",
    "from sklearn.feature_extraction.text import CountVectorizer \n",
    "from sklearn.svm import SVC"
   ]
  },
  {
   "cell_type": "code",
   "execution_count": 29,
   "id": "a20a723b",
   "metadata": {},
   "outputs": [],
   "source": [
    "v = CountVectorizer()\n",
    "X_train_format = v.fit_transform(X_train[:10_000, 0])"
   ]
  },
  {
   "cell_type": "code",
   "execution_count": 32,
   "id": "05e40a46",
   "metadata": {},
   "outputs": [],
   "source": [
    "clf = SVC(kernel='linear', random_state=42)\n",
    "clf = clf.fit(X_train_format, y_train[:10_000])"
   ]
  },
  {
   "cell_type": "code",
   "execution_count": 35,
   "id": "53902a4d",
   "metadata": {},
   "outputs": [
    {
     "data": {
      "text/plain": [
       "0.8509"
      ]
     },
     "execution_count": 35,
     "metadata": {},
     "output_type": "execute_result"
    }
   ],
   "source": [
    "X_validate_format = v.transform(X_validate[:, 0])\n",
    "clf.score(X_validate_format, y_validate)"
   ]
  },
  {
   "cell_type": "markdown",
   "id": "498ded16",
   "metadata": {},
   "source": []
  },
  {
   "cell_type": "code",
   "execution_count": 38,
   "id": "bd480186",
   "metadata": {},
   "outputs": [
    {
     "data": {
      "text/plain": [
       "array(['positive'], dtype=object)"
      ]
     },
     "execution_count": 38,
     "metadata": {},
     "output_type": "execute_result"
    }
   ],
   "source": [
    "x = np.array([\"This company is great\"])\n",
    "x = v.transform(x)\n",
    "clf.predict(x)"
   ]
  }
 ],
 "metadata": {
  "kernelspec": {
   "display_name": "Python 3.10.4 ('COMP5630')",
   "language": "python",
   "name": "python3"
  },
  "language_info": {
   "codemirror_mode": {
    "name": "ipython",
    "version": 3
   },
   "file_extension": ".py",
   "mimetype": "text/x-python",
   "name": "python",
   "nbconvert_exporter": "python",
   "pygments_lexer": "ipython3",
   "version": "3.10.4"
  },
  "vscode": {
   "interpreter": {
    "hash": "bcbbe57d440203e5814a2fe75f2f5b4999e9223ff5be38f6186fb63215666183"
   }
  }
 },
 "nbformat": 4,
 "nbformat_minor": 5
}
