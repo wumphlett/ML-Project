{
 "cells": [
  {
   "cell_type": "markdown",
   "id": "9de3eddd",
   "metadata": {},
   "source": [
    "# Notebook Setup\n",
    "Installs necessary requirements and configures proper notebook behavior  \n",
    "Note: The notebook assumes you are using the base conda environment"
   ]
  },
  {
   "cell_type": "code",
   "execution_count": 1,
   "id": "c506dc9e",
   "metadata": {},
   "outputs": [
    {
     "name": "stdout",
     "output_type": "stream",
     "text": [
      "Notebook setup has completed\n"
     ]
    }
   ],
   "source": [
    "%load_ext autoreload\n",
    "%autoreload 2\n",
    "# !python -m pip install -r requirements.txt\n",
    "    \n",
    "print(\"Notebook setup has completed\")"
   ]
  },
  {
   "cell_type": "markdown",
   "id": "cc24094f",
   "metadata": {},
   "source": [
    "# Download Data\n",
    "Specify which datasets to use and download"
   ]
  },
  {
   "cell_type": "code",
   "execution_count": 2,
   "id": "dd88bf6d",
   "metadata": {},
   "outputs": [],
   "source": [
    "CDS_AND_VINYL_JSON_PARAMS = {\n",
    "    'file': 'CDs_and_Vinyl_5.json.gz',\n",
    "    'filetype': 'json',\n",
    "    'features': \"reviewText\",\n",
    "    'labels': \"overall\",\n",
    "}\n",
    "CELL_PHONE_JSON_PARAMS = {\n",
    "    'file': 'Cell_Phones_and_Accessories_5.json.gz',\n",
    "    'filetype': 'json',\n",
    "    'features': \"reviewText\",\n",
    "    'labels': \"overall\",\n",
    "}\n",
    "CLOTHING_JSON_PARAMS = {\n",
    "    'file': 'Clothing_Shoes_and_Jewelry_5.json.gz',\n",
    "    'filetype': 'json',\n",
    "    'features': \"reviewText\",\n",
    "    'labels': \"overall\",\n",
    "}\n",
    "ELECTRONICS_JSON_PARAMS = {\n",
    "    'file': 'Electronics_5.json.gz',\n",
    "    'filetype': 'json',\n",
    "    'features': \"reviewText\",\n",
    "    'labels': \"overall\",\n",
    "}\n",
    "HOME_AND_KITCHEN_JSON_PARAMS = {\n",
    "    'file': 'Home_and_Kitchen_5.json.gz',\n",
    "    'filetype': 'json',\n",
    "    'features': \"reviewText\",\n",
    "    'labels': \"overall\",\n",
    "}\n",
    "KINDLE_STORE_JSON_PARAMS = {\n",
    "    'file': 'Kindle_Store_5.json.gz',\n",
    "    'filetype': 'json',\n",
    "    'features': \"reviewText\",\n",
    "    'labels': \"overall\",\n",
    "}\n",
    "MOVIES_JSON_PARAMS = {\n",
    "    'file': 'Movies_and_TV_5.json.gz',\n",
    "    'filetype': 'json',\n",
    "    'features': \"reviewText\",\n",
    "    'labels': \"overall\",\n",
    "}\n",
    "SPORTS_JSON_PARAMS = {\n",
    "    'file': 'Sports_and_Outdoors_5.json.gz',\n",
    "    'filetype': 'json',\n",
    "    'features': \"reviewText\",\n",
    "    'labels': \"overall\",\n",
    "}"
   ]
  },
  {
   "cell_type": "code",
   "execution_count": 3,
   "id": "ebc41eae",
   "metadata": {},
   "outputs": [
    {
     "name": "stdout",
     "output_type": "stream",
     "text": [
      "File /home/elizabeth/dev/ML-Project/data/CDs_and_Vinyl_5.json.gz already exists, skipping download\n",
      "File /home/elizabeth/dev/ML-Project/data/Cell_Phones_and_Accessories_5.json.gz already exists, skipping download\n",
      "File /home/elizabeth/dev/ML-Project/data/Kindle_Store_5.json.gz already exists, skipping download\n",
      "File /home/elizabeth/dev/ML-Project/data/Sports_and_Outdoors_5.json.gz already exists, skipping download\n"
     ]
    }
   ],
   "source": [
    "from bootstrap import download_data_file\n",
    "DATASETS = [ CDS_AND_VINYL_JSON_PARAMS, CELL_PHONE_JSON_PARAMS , KINDLE_STORE_JSON_PARAMS, SPORTS_JSON_PARAMS ]\n",
    "URL_SOURCE = \"https://jmcauley.ucsd.edu/data/amazon_v2/categoryFilesSmall/\"\n",
    "\n",
    "for dataset in DATASETS:\n",
    "    download_data_file(URL_SOURCE, dataset['file'])\n",
    "    "
   ]
  },
  {
   "cell_type": "code",
   "execution_count": 4,
   "id": "adc1c9e0",
   "metadata": {},
   "outputs": [],
   "source": [
    "from preprocessing import get_dataframe_file\n",
    "import pandas as pd\n",
    "POINTS_PER_FILE = 50_000\n",
    "frames = []\n",
    "for file in DATASETS:\n",
    "    frame = get_dataframe_file(params = file, equalize=True)\n",
    "    frame.dropna(inplace=True)\n",
    "    frames.append(frame)"
   ]
  },
  {
   "cell_type": "code",
   "execution_count": 5,
   "id": "679e1713",
   "metadata": {},
   "outputs": [
    {
     "data": {
      "text/plain": "                                            reviewText  overall\n90   I just don't understand how someone could reco...        1\n117  With all due respect to all you people who lov...        1\n219  This CD seems too \"disjointed\"---it does not f...        1\n256  This is another Sharon Osborne rip-off . Just ...        1\n257  After DIO Sabbath with ozzy singing is crap, h...        1",
      "text/html": "<div>\n<style scoped>\n    .dataframe tbody tr th:only-of-type {\n        vertical-align: middle;\n    }\n\n    .dataframe tbody tr th {\n        vertical-align: top;\n    }\n\n    .dataframe thead th {\n        text-align: right;\n    }\n</style>\n<table border=\"1\" class=\"dataframe\">\n  <thead>\n    <tr style=\"text-align: right;\">\n      <th></th>\n      <th>reviewText</th>\n      <th>overall</th>\n    </tr>\n  </thead>\n  <tbody>\n    <tr>\n      <th>90</th>\n      <td>I just don't understand how someone could reco...</td>\n      <td>1</td>\n    </tr>\n    <tr>\n      <th>117</th>\n      <td>With all due respect to all you people who lov...</td>\n      <td>1</td>\n    </tr>\n    <tr>\n      <th>219</th>\n      <td>This CD seems too \"disjointed\"---it does not f...</td>\n      <td>1</td>\n    </tr>\n    <tr>\n      <th>256</th>\n      <td>This is another Sharon Osborne rip-off . Just ...</td>\n      <td>1</td>\n    </tr>\n    <tr>\n      <th>257</th>\n      <td>After DIO Sabbath with ozzy singing is crap, h...</td>\n      <td>1</td>\n    </tr>\n  </tbody>\n</table>\n</div>"
     },
     "execution_count": 5,
     "metadata": {},
     "output_type": "execute_result"
    }
   ],
   "source": [
    "df = pd.concat(frames)\n",
    "df.head()"
   ]
  },
  {
   "cell_type": "markdown",
   "id": "8cdc59bc",
   "metadata": {},
   "source": [
    "# Format Data\n",
    "Split into training, testing, and validation sets, and transform text into a format that can be used by the model"
   ]
  },
  {
   "cell_type": "code",
   "execution_count": 6,
   "id": "047a2154",
   "metadata": {},
   "outputs": [
    {
     "name": "stdout",
     "output_type": "stream",
     "text": [
      "X_train: (1001527, 16527)\t y_train: (1001527,)\n",
      "X_val: (125191, 16527)\t y_val: (125191,)\n",
      "X_test: (125191, 16527)\t y_test: (125191,)\n"
     ]
    }
   ],
   "source": [
    "from sklearn.feature_extraction.text import CountVectorizer\n",
    "from preprocessing import get_subsets\n",
    "\n",
    "word_vectorizer = CountVectorizer(\n",
    "    min_df=0.0001, \n",
    "    max_df=0.7\n",
    " )\n",
    "X = df[\"reviewText\"].to_numpy()\n",
    "X = word_vectorizer.fit_transform(X)\n",
    "y = df['overall'].to_numpy()\n",
    "\n",
    "X_train, X_val, X_test, y_train, y_val, y_test = get_subsets(X,y, train_split=0.8, val_split=0.1, test_split=0.1)\n",
    "print(f\"X_train: {X_train.shape}\\t y_train: {y_train.shape}\")\n",
    "print(f\"X_val: {X_val.shape}\\t y_val: {y_val.shape}\")\n",
    "print(f\"X_test: {X_test.shape}\\t y_test: {y_test.shape}\")\n"
   ]
  },
  {
   "cell_type": "markdown",
   "id": "e370a703",
   "metadata": {},
   "source": [
    "# Visualize Data Distribution"
   ]
  },
  {
   "cell_type": "code",
   "execution_count": 7,
   "id": "c15c87cb",
   "metadata": {},
   "outputs": [
    {
     "data": {
      "text/plain": "<Figure size 640x480 with 1 Axes>",
      "image/png": "[encoded data removed]"
     },
     "metadata": {},
     "output_type": "display_data"
    },
    {
     "name": "stdout",
     "output_type": "stream",
     "text": [
      "Label mean:  2.999394923951127\n",
      "Label Standard Deviation:  1.4138208264550518\n"
     ]
    }
   ],
   "source": [
    "import matplotlib.pyplot as plt\n",
    "import numpy as np\n",
    "categories, counts = np.unique(y_train, return_counts=True)\n",
    "plt.bar(categories, counts)\n",
    "plt.title(\"Labels in training set\")\n",
    "plt.xlabel(\"Rating\")\n",
    "plt.ylabel(\"Count\")\n",
    "plt.show()\n",
    "print(\"Label mean: \", np.mean(y_train))\n",
    "print(\"Label Standard Deviation: \", np.std(y_train))"
   ]
  },
  {
   "cell_type": "markdown",
   "id": "7f11c14f",
   "metadata": {},
   "source": [
    "# Training the Model"
   ]
  },
  {
   "cell_type": "code",
   "execution_count": 17,
   "id": "acac3c34",
   "metadata": {},
   "outputs": [
    {
     "name": "stderr",
     "output_type": "stream",
     "text": [
      "100%|██████████| 20/20 [07:31<00:00, 22.58s/it]\n"
     ]
    }
   ],
   "source": [
    "from mlp import MultiLayerPerceptron\n",
    "our_mlp = MultiLayerPerceptron(\n",
    "    epochs=20,\n",
    "    lr=0.2,\n",
    "    hidden_layers=[50, 50, 20, 20],\n",
    "    activation=\"logistic\",\n",
    "    regularization=\"L2\",\n",
    "    reg_const=0.0001,\n",
    ")\n",
    "our_mlp.fit(X_train, y_train, X_val, y_val, batch_size=200)"
   ]
  },
  {
   "cell_type": "code",
   "execution_count": 18,
   "id": "5e634ef0",
   "metadata": {},
   "outputs": [
    {
     "data": {
      "text/plain": "<Figure size 1000x500 with 2 Axes>",
      "image/png": "[encoded data removed]"
     },
     "metadata": {},
     "output_type": "display_data"
    }
   ],
   "source": [
    "training_score = our_mlp.score(X_train, y_train)\n",
    "validation_score = our_mlp.score(X_val, y_val)\n",
    "test_score = our_mlp.score(X_test, y_test)\n",
    "fig, (ax1, ax2) = plt.subplots(1,2, figsize=(10,5))\n",
    "\n",
    "ax1.plot(our_mlp.train_loss_curve, label=\"Training Loss\")\n",
    "ax1.plot(our_mlp.val_loss_curve, label=\"Validation Loss\")\n",
    "ax1.set_title(\"Loss over epochs\")\n",
    "ax1.set_xlabel(\"Epoch\")\n",
    "ax1.set_ylabel(\"Loss\")\n",
    "ax1.legend()\n",
    "\n",
    "ax2.bar([f\"Train: {training_score:.3f}\", f\"Val: {validation_score:.3f}\", f\"Test: {test_score:.3f}\"], \n",
    "    [training_score, validation_score, test_score])\n",
    "ax2.set_title(\"Accuracy on different sets\")\n",
    "ax2.set_ylabel(\"Accuracy\")\n",
    "ax2.set_ylim(0,1)\n",
    "\n",
    "fig.tight_layout()"
   ]
  },
  {
   "cell_type": "code",
   "execution_count": 19,
   "id": "4a59010c",
   "metadata": {},
   "outputs": [
    {
     "name": "stdout",
     "output_type": "stream",
     "text": [
      "              precision    recall  f1-score   support\n",
      "\n",
      "           1       0.57      0.72      0.64     25170\n",
      "           2       0.39      0.50      0.44     25012\n",
      "           3       0.48      0.31      0.38     25041\n",
      "           4       0.54      0.31      0.39     24973\n",
      "           5       0.62      0.75      0.68     24995\n",
      "\n",
      "    accuracy                           0.52    125191\n",
      "   macro avg       0.52      0.52      0.51    125191\n",
      "weighted avg       0.52      0.52      0.51    125191\n",
      "\n"
     ]
    }
   ],
   "source": [
    "from sklearn.metrics import classification_report\n",
    "\n",
    "y_pred = our_mlp.predict(X_test)\n",
    "cm = classification_report(y_test, y_pred)\n",
    "print(cm)"
   ]
  },
  {
   "cell_type": "markdown",
   "id": "7932bfcf",
   "metadata": {},
   "source": [
    "# Benchmarking"
   ]
  },
  {
   "cell_type": "code",
   "execution_count": null,
   "id": "b03803e7",
   "metadata": {},
   "outputs": [],
   "source": [
    "from sklearn.neural_network import MLPClassifier\n",
    "sklearn_mlp = MLPClassifier(\n",
    "    early_stopping=True,\n",
    ")\n",
    "sklearn_mlp = sklearn_mlp.fit(X_train, y_train)"
   ]
  },
  {
   "cell_type": "code",
   "execution_count": null,
   "id": "2bbd53dd",
   "metadata": {},
   "outputs": [],
   "source": [
    "training_score = sklearn_mlp.score(X_train, y_train)\n",
    "validation_score = sklearn_mlp.score(X_val, y_val)\n",
    "test_score = sklearn_mlp.score(X_test, y_test)\n",
    "fig, (ax1, ax2) = plt.subplots(1,2, figsize=(10,5))\n",
    "\n",
    "ax1.plot(sklearn_mlp.loss_curve_)\n",
    "ax1.set_title(\"Loss over epochs\")\n",
    "ax1.set_xlabel(\"Epoch\")\n",
    "ax1.set_ylabel(\"Loss\")\n",
    "\n",
    "ax2.bar([f\"Train: {training_score:.3f}\", f\"Val: {validation_score:.3f}\", f\"Test: {test_score:.3f}\"], \n",
    "    [training_score, validation_score, test_score])\n",
    "ax2.set_title(\"Accuracy on different sets\")\n",
    "ax2.set_ylabel(\"Accuracy\")\n",
    "ax2.set_ylim(0,1)\n",
    "\n",
    "fig.tight_layout()"
   ]
  },
  {
   "cell_type": "code",
   "execution_count": null,
   "id": "d79dd003",
   "metadata": {},
   "outputs": [],
   "source": [
    "from sklearn.metrics import classification_report\n",
    "\n",
    "y_pred = sklearn_mlp.predict(X_test)\n",
    "cm = classification_report(y_test, y_pred)\n",
    "print(cm)"
   ]
  },
  {
   "cell_type": "code",
   "execution_count": null,
   "id": "118e4419",
   "metadata": {},
   "outputs": [],
   "source": [
    "from sklearn.ensemble import RandomForestClassifier\n",
    "clf = RandomForestClassifier(\n",
    "    n_estimators=200,\n",
    "    max_depth=15,\n",
    ")\n",
    "\n",
    "clf.fit(X_train, y_train)"
   ]
  },
  {
   "cell_type": "code",
   "execution_count": null,
   "id": "e9fce156",
   "metadata": {},
   "outputs": [],
   "source": [
    "training_score = clf.score(X_train, y_train)\n",
    "validation_score = clf.score(X_val, y_val)\n",
    "test_score = clf.score(X_test, y_test)\n",
    "plt.bar([f\"Train: {training_score:.3f}\", f\"Val: {validation_score:.3f}\", f\"Test: {test_score:.3f}\"], \n",
    "    [training_score, validation_score, test_score])\n",
    "plt.title(\"Accuracy on different sets\")\n",
    "plt.ylabel(\"Accuracy\")\n",
    "plt.ylim(0,1)\n",
    "plt.show()"
   ]
  },
  {
   "cell_type": "markdown",
   "id": "86c10bd0",
   "metadata": {},
   "source": [
    "## Tensorflow Benchmarking\n",
    "If you are not using a GPU, this might take a while"
   ]
  },
  {
   "cell_type": "code",
   "execution_count": 1,
   "id": "74b4a5b5",
   "metadata": {},
   "outputs": [],
   "source": [
    "#Free GPU memory\n",
    "from numba import cuda\n",
    "cuda.select_device(0)\n",
    "cuda.close()"
   ]
  },
  {
   "cell_type": "code",
   "execution_count": 2,
   "id": "65ffc285",
   "metadata": {},
   "outputs": [
    {
     "name": "stderr",
     "output_type": "stream",
     "text": [
      "2022-12-03 20:58:56.508598: I tensorflow/core/platform/cpu_feature_guard.cc:193] This TensorFlow binary is optimized with oneAPI Deep Neural Network Library (oneDNN) to use the following CPU instructions in performance-critical operations:  AVX2 FMA\n",
      "To enable them in other operations, rebuild TensorFlow with the appropriate compiler flags.\n",
      "2022-12-03 20:58:57.721580: W tensorflow/compiler/xla/stream_executor/platform/default/dso_loader.cc:64] Could not load dynamic library 'libnvinfer.so.7'; dlerror: libnvinfer.so.7: cannot open shared object file: No such file or directory\n",
      "2022-12-03 20:58:57.721654: W tensorflow/compiler/xla/stream_executor/platform/default/dso_loader.cc:64] Could not load dynamic library 'libnvinfer_plugin.so.7'; dlerror: libnvinfer_plugin.so.7: cannot open shared object file: No such file or directory\n",
      "2022-12-03 20:58:57.721659: W tensorflow/compiler/tf2tensorrt/utils/py_utils.cc:38] TF-TRT Warning: Cannot dlopen some TensorRT libraries. If you would like to use Nvidia GPU with TensorRT, please make sure the missing libraries mentioned above are installed properly.\n"
     ]
    },
    {
     "name": "stdout",
     "output_type": "stream",
     "text": [
      "Num GPUs Available:  0\n"
     ]
    },
    {
     "name": "stderr",
     "output_type": "stream",
     "text": [
      "2022-12-03 20:58:58.847037: I tensorflow/compiler/xla/stream_executor/cuda/cuda_gpu_executor.cc:967] could not open file to read NUMA node: /sys/bus/pci/devices/0000:0b:00.0/numa_node\n",
      "Your kernel may have been built without NUMA support.\n",
      "2022-12-03 20:58:59.064283: W tensorflow/compiler/xla/stream_executor/platform/default/dso_loader.cc:64] Could not load dynamic library 'libcudnn.so.8'; dlerror: libcudnn.so.8: cannot open shared object file: No such file or directory\n",
      "2022-12-03 20:58:59.064301: W tensorflow/core/common_runtime/gpu/gpu_device.cc:1934] Cannot dlopen some GPU libraries. Please make sure the missing libraries mentioned above are installed properly if you would like to use GPU. Follow the guide at https://www.tensorflow.org/install/gpu for how to download and setup the required libraries for your platform.\n",
      "Skipping registering GPU devices...\n",
      "2022-12-03 20:58:59.065042: I tensorflow/core/platform/cpu_feature_guard.cc:193] This TensorFlow binary is optimized with oneAPI Deep Neural Network Library (oneDNN) to use the following CPU instructions in performance-critical operations:  AVX2 FMA\n",
      "To enable them in other operations, rebuild TensorFlow with the appropriate compiler flags.\n"
     ]
    }
   ],
   "source": [
    "import tensorflow as tf\n",
    "\n",
    "# clear tensoflow backend\n",
    "tf.keras.backend.clear_session()\n",
    "callback = tf.keras.callbacks.EarlyStopping(monitor='val_loss', patience=3)\n",
    "\n",
    "model = tf.keras.Sequential([\n",
    "    tf.keras.layers.Dense(50, activation=\"relu\"),\n",
    "    tf.keras.layers.Dense(20, activation=\"relu\"),\n",
    "    tf.keras.layers.Dense(5, activation=\"softmax\"),\n",
    "    tf.keras.layers.Dense(1, activation=\"linear\"),\n",
    "])\n",
    "\n",
    "model.compile(\n",
    "    optimizer=tf.keras.optimizers.Adam(),\n",
    "    loss=tf.keras.losses.MeanSquaredError(),\n",
    "    metrics=[\"accuracy\", \"mse\", \"mae\"]\n",
    ")\n",
    "print(\"Num GPUs Available: \", len(tf.config.list_physical_devices('GPU')))"
   ]
  },
  {
   "cell_type": "code",
   "execution_count": 10,
   "id": "99260073",
   "metadata": {},
   "outputs": [
    {
     "ename": "MemoryError",
     "evalue": "Unable to allocate 123. GiB for an array with shape (1001527, 16527) and data type int64",
     "output_type": "error",
     "traceback": [
      "\u001B[0;31m---------------------------------------------------------------------------\u001B[0m",
      "\u001B[0;31mMemoryError\u001B[0m                               Traceback (most recent call last)",
      "Cell \u001B[0;32mIn [10], line 1\u001B[0m\n\u001B[0;32m----> 1\u001B[0m keras_X_train \u001B[38;5;241m=\u001B[39m \u001B[43mX_train\u001B[49m\u001B[38;5;241;43m.\u001B[39;49m\u001B[43mtoarray\u001B[49m\u001B[43m(\u001B[49m\u001B[43m)\u001B[49m\n\u001B[1;32m      2\u001B[0m keras_X_val \u001B[38;5;241m=\u001B[39m X_val\u001B[38;5;241m.\u001B[39mtoarray()\n\u001B[1;32m      3\u001B[0m keras_y_train \u001B[38;5;241m=\u001B[39m y_train \u001B[38;5;241m-\u001B[39m \u001B[38;5;241m1\u001B[39m\n",
      "File \u001B[0;32m~/anaconda3/envs/ml-project/lib/python3.10/site-packages/scipy/sparse/_compressed.py:1051\u001B[0m, in \u001B[0;36m_cs_matrix.toarray\u001B[0;34m(self, order, out)\u001B[0m\n\u001B[1;32m   1049\u001B[0m \u001B[38;5;28;01mif\u001B[39;00m out \u001B[38;5;129;01mis\u001B[39;00m \u001B[38;5;28;01mNone\u001B[39;00m \u001B[38;5;129;01mand\u001B[39;00m order \u001B[38;5;129;01mis\u001B[39;00m \u001B[38;5;28;01mNone\u001B[39;00m:\n\u001B[1;32m   1050\u001B[0m     order \u001B[38;5;241m=\u001B[39m \u001B[38;5;28mself\u001B[39m\u001B[38;5;241m.\u001B[39m_swap(\u001B[38;5;124m'\u001B[39m\u001B[38;5;124mcf\u001B[39m\u001B[38;5;124m'\u001B[39m)[\u001B[38;5;241m0\u001B[39m]\n\u001B[0;32m-> 1051\u001B[0m out \u001B[38;5;241m=\u001B[39m \u001B[38;5;28;43mself\u001B[39;49m\u001B[38;5;241;43m.\u001B[39;49m\u001B[43m_process_toarray_args\u001B[49m\u001B[43m(\u001B[49m\u001B[43morder\u001B[49m\u001B[43m,\u001B[49m\u001B[43m \u001B[49m\u001B[43mout\u001B[49m\u001B[43m)\u001B[49m\n\u001B[1;32m   1052\u001B[0m \u001B[38;5;28;01mif\u001B[39;00m \u001B[38;5;129;01mnot\u001B[39;00m (out\u001B[38;5;241m.\u001B[39mflags\u001B[38;5;241m.\u001B[39mc_contiguous \u001B[38;5;129;01mor\u001B[39;00m out\u001B[38;5;241m.\u001B[39mflags\u001B[38;5;241m.\u001B[39mf_contiguous):\n\u001B[1;32m   1053\u001B[0m     \u001B[38;5;28;01mraise\u001B[39;00m \u001B[38;5;167;01mValueError\u001B[39;00m(\u001B[38;5;124m'\u001B[39m\u001B[38;5;124mOutput array must be C or F contiguous\u001B[39m\u001B[38;5;124m'\u001B[39m)\n",
      "File \u001B[0;32m~/anaconda3/envs/ml-project/lib/python3.10/site-packages/scipy/sparse/_base.py:1298\u001B[0m, in \u001B[0;36mspmatrix._process_toarray_args\u001B[0;34m(self, order, out)\u001B[0m\n\u001B[1;32m   1296\u001B[0m     \u001B[38;5;28;01mreturn\u001B[39;00m out\n\u001B[1;32m   1297\u001B[0m \u001B[38;5;28;01melse\u001B[39;00m:\n\u001B[0;32m-> 1298\u001B[0m     \u001B[38;5;28;01mreturn\u001B[39;00m \u001B[43mnp\u001B[49m\u001B[38;5;241;43m.\u001B[39;49m\u001B[43mzeros\u001B[49m\u001B[43m(\u001B[49m\u001B[38;5;28;43mself\u001B[39;49m\u001B[38;5;241;43m.\u001B[39;49m\u001B[43mshape\u001B[49m\u001B[43m,\u001B[49m\u001B[43m \u001B[49m\u001B[43mdtype\u001B[49m\u001B[38;5;241;43m=\u001B[39;49m\u001B[38;5;28;43mself\u001B[39;49m\u001B[38;5;241;43m.\u001B[39;49m\u001B[43mdtype\u001B[49m\u001B[43m,\u001B[49m\u001B[43m \u001B[49m\u001B[43morder\u001B[49m\u001B[38;5;241;43m=\u001B[39;49m\u001B[43morder\u001B[49m\u001B[43m)\u001B[49m\n",
      "\u001B[0;31mMemoryError\u001B[0m: Unable to allocate 123. GiB for an array with shape (1001527, 16527) and data type int64"
     ]
    }
   ],
   "source": [
    "keras_X_train = X_train.toarray()\n",
    "keras_X_val = X_val.toarray()\n",
    "keras_y_train = y_train - 1\n",
    "keras_y_val = y_val - 1\n",
    "model.fit(keras_X_train, keras_y_train, epochs=10, validation_data=(keras_X_val, keras_y_val), callbacks=[callback])"
   ]
  },
  {
   "cell_type": "markdown",
   "id": "ef08a055",
   "metadata": {},
   "source": [
    "# Training"
   ]
  },
  {
   "cell_type": "code",
   "execution_count": null,
   "id": "816bfbfc",
   "metadata": {},
   "outputs": [],
   "source": [
    "from sympy import Lambda, Symbol\n",
    "from training import matrix_train\n",
    "\n",
    "\n",
    "x = Symbol(\"x\")\n",
    "\n",
    "\n",
    "# each axis must be an iterable. if you want to use a constant, wrap it in an iterable of len 1\n",
    "hyperparameter_matrix = {\n",
    "    \"epochs\": np.logspace(np.log10(100), np.log10(100000), num=20, dtype=\"int64\"),\n",
    "    \"lr\": np.logspace(np.log10(.00001), np.log10(.1), num=20),\n",
    "    \"hidden_layers\": [5, 6, 7],\n",
    "    \"neurons_per_layer\": [3],\n",
    "    \"activation\": [Lambda(x, x**2)],\n",
    "}\n",
    "\n",
    "best_params = matrix_train(hyperparameter_matrix, MultiLayerPerceptron, X_train, y_train, X_test, y_test)\n",
    "\n",
    "print(best_params)\n",
    "# mlp = MultiLayerPerceptron(**best_params)\n"
   ]
  },
  {
   "cell_type": "markdown",
   "id": "67082690",
   "metadata": {},
   "source": [
    "# Performance"
   ]
  },
  {
   "cell_type": "code",
   "execution_count": null,
   "id": "5d1ef1d5",
   "metadata": {},
   "outputs": [],
   "source": [
    "from analysis import accuracy, confusion, report\n",
    "\n",
    "\n",
    "mlp = MultiLayerPerceptron(**best_params)\n",
    "mlp.fit(X_train, y_train)\n",
    "\n",
    "# print(accuracy(mlp.predict(X_test), y_test))\n",
    "# print(confusion(mlp.predict(X_test), y_test))\n",
    "print(report(mlp.predict(X_test), y_test))\n"
   ]
  },
  {
   "cell_type": "markdown",
   "id": "e7f7f405",
   "metadata": {},
   "source": [
    "# Benchmarking"
   ]
  },
  {
   "cell_type": "code",
   "execution_count": null,
   "id": "25e4e640",
   "metadata": {},
   "outputs": [],
   "source": [
    "# TODO utilize other classifiers and compare performance"
   ]
  }
 ],
 "metadata": {
  "kernelspec": {
   "display_name": "Python 3.10.6 ('venv': venv)",
   "language": "python",
   "name": "python3"
  },
  "language_info": {
   "codemirror_mode": {
    "name": "ipython",
    "version": 3
   },
   "file_extension": ".py",
   "mimetype": "text/x-python",
   "name": "python",
   "nbconvert_exporter": "python",
   "pygments_lexer": "ipython3",
   "version": "3.10.6"
  },
  "vscode": {
   "interpreter": {
    "hash": "eaf02dffba55afcb757f8661e47ea199414fefb6fedafc1622a26ab926d7da3f"
   }
  }
 },
 "nbformat": 4,
 "nbformat_minor": 5
}
