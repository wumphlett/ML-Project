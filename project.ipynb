{
 "cells": [
  {
   "cell_type": "code",
   "execution_count": null,
   "id": "c506dc9e",
   "metadata": {},
   "outputs": [],
   "source": [
    "import sys\n",
    "\n",
    "requirements = [\n",
    "    \"kaggle\",\n",
    "    \"python-dotenv\",\n",
    "]\n",
    "\n",
    "for requirement in requirements:\n",
    "    !{sys.executable} -m pip install {requirement}\n",
    "    \n",
    "%load_ext autoreload\n",
    "%autoreload 2\n",
    "    \n",
    "print(\"Notebook setup has completed\")\n",
    "\n",
    "del requirement, requirements"
   ]
  },
  {
   "cell_type": "code",
   "execution_count": null,
   "id": "a61fb28a",
   "metadata": {},
   "outputs": [],
   "source": [
    "from environment import setup\n",
    "\n",
    "# Please rename .env-template to .env and adjust values as needed\n",
    "setup()\n",
    "\n",
    "print(\"Environment setup has completed\")\n",
    "\n",
    "del setup"
   ]
  },
  {
   "cell_type": "code",
   "execution_count": null,
   "id": "047a2154",
   "metadata": {},
   "outputs": [],
   "source": [
    "from infrastructure import get_subsets\n",
    "\n",
    "\n",
    "X_train, X_test, X_validate, y_train, y_test, y_validate = get_subsets()\n",
    "\n",
    "print(X_validate.head())\n",
    "print()\n",
    "print(y_validate.head())\n",
    "\n",
    "del get_subsets"
   ]
  },
  {
   "cell_type": "code",
   "execution_count": null,
   "id": "4aa252d0",
   "metadata": {},
   "outputs": [],
   "source": []
  }
 ],
 "metadata": {
  "kernelspec": {
   "display_name": "Python 3 (ipykernel)",
   "language": "python",
   "name": "python3"
  },
  "language_info": {
   "codemirror_mode": {
    "name": "ipython",
    "version": 3
   },
   "file_extension": ".py",
   "mimetype": "text/x-python",
   "name": "python",
   "nbconvert_exporter": "python",
   "pygments_lexer": "ipython3",
   "version": "3.9.12"
  }
 },
 "nbformat": 4,
 "nbformat_minor": 5
}
