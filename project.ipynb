{
 "cells": [
  {
   "cell_type": "markdown",
   "id": "9de3eddd",
   "metadata": {},
   "source": [
    "# Notebook Setup\n",
    "Installs necessary requirements and configures proper notebook behavior  \n",
    "Note: The notebook assumes you are using the base conda environment"
   ]
  },
  {
   "cell_type": "code",
   "execution_count": 1,
   "id": "c506dc9e",
   "metadata": {},
   "outputs": [
    {
     "name": "stdout",
     "output_type": "stream",
     "text": [
      "Notebook setup has completed\n"
     ]
    }
   ],
   "source": [
    "%load_ext autoreload\n",
    "%autoreload 2\n",
    "    \n",
    "print(\"Notebook setup has completed\")"
   ]
  },
  {
   "cell_type": "markdown",
   "id": "05b600f8",
   "metadata": {},
   "source": [
    "# Load Data\n",
    "Load the data from the csv file into a pandas dataframe"
   ]
  },
  {
   "cell_type": "code",
   "execution_count": 4,
   "id": "dd88bf6d",
   "metadata": {},
   "outputs": [],
   "source": [
    "MOVIES_JSON_PARAMS = {\n",
    "    'file': 'Movies_and_TV_5.json',\n",
    "    'features': \"reviewText\",\n",
    "    'labels': \"overall\",\n",
    "}"
   ]
  },
  {
   "cell_type": "code",
   "execution_count": 61,
   "id": "adc1c9e0",
   "metadata": {},
   "outputs": [],
   "source": [
    "from preprocessing import get_dataframe_file\n",
    "df = get_dataframe_file(MOVIES_JSON_PARAMS, points=5000)"
   ]
  },
  {
   "cell_type": "code",
   "execution_count": 64,
   "id": "679e1713",
   "metadata": {},
   "outputs": [
    {
     "data": {
      "text/html": [
       "<div>\n",
       "<style scoped>\n",
       "    .dataframe tbody tr th:only-of-type {\n",
       "        vertical-align: middle;\n",
       "    }\n",
       "\n",
       "    .dataframe tbody tr th {\n",
       "        vertical-align: top;\n",
       "    }\n",
       "\n",
       "    .dataframe thead th {\n",
       "        text-align: right;\n",
       "    }\n",
       "</style>\n",
       "<table border=\"1\" class=\"dataframe\">\n",
       "  <thead>\n",
       "    <tr style=\"text-align: right;\">\n",
       "      <th></th>\n",
       "      <th>reviewText</th>\n",
       "      <th>overall</th>\n",
       "    </tr>\n",
       "  </thead>\n",
       "  <tbody>\n",
       "    <tr>\n",
       "      <th>1891852</th>\n",
       "      <td>Don't waste your hard-earned money.  This movi...</td>\n",
       "      <td>1</td>\n",
       "    </tr>\n",
       "    <tr>\n",
       "      <th>2666389</th>\n",
       "      <td>Best deal ever</td>\n",
       "      <td>5</td>\n",
       "    </tr>\n",
       "    <tr>\n",
       "      <th>1230363</th>\n",
       "      <td>Pretty good scary movie.</td>\n",
       "      <td>3</td>\n",
       "    </tr>\n",
       "    <tr>\n",
       "      <th>1323191</th>\n",
       "      <td>Funny Movie. I would recommend. Worth renting</td>\n",
       "      <td>3</td>\n",
       "    </tr>\n",
       "    <tr>\n",
       "      <th>226525</th>\n",
       "      <td>great movie a little off the wall as history g...</td>\n",
       "      <td>5</td>\n",
       "    </tr>\n",
       "  </tbody>\n",
       "</table>\n",
       "</div>"
      ],
      "text/plain": [
       "                                                reviewText  overall\n",
       "1891852  Don't waste your hard-earned money.  This movi...        1\n",
       "2666389                                     Best deal ever        5\n",
       "1230363                           Pretty good scary movie.        3\n",
       "1323191      Funny Movie. I would recommend. Worth renting        3\n",
       "226525   great movie a little off the wall as history g...        5"
      ]
     },
     "execution_count": 64,
     "metadata": {},
     "output_type": "execute_result"
    }
   ],
   "source": [
    "df.head()"
   ]
  },
  {
   "cell_type": "markdown",
   "id": "8cdc59bc",
   "metadata": {},
   "source": [
    "# Preprocess Data\n",
    "Split into training, testing, and validation sets, and vectorize the data"
   ]
  },
  {
   "cell_type": "code",
   "execution_count": 63,
   "id": "047a2154",
   "metadata": {},
   "outputs": [
    {
     "ename": "ValueError",
     "evalue": "np.nan is an invalid document, expected byte or unicode string.",
     "output_type": "error",
     "traceback": [
      "\u001b[1;31m---------------------------------------------------------------------------\u001b[0m",
      "\u001b[1;31mValueError\u001b[0m                                Traceback (most recent call last)",
      "Cell \u001b[1;32mIn [63], line 9\u001b[0m\n\u001b[0;32m      4\u001b[0m word_vectorizer \u001b[39m=\u001b[39m CountVectorizer(\n\u001b[0;32m      5\u001b[0m     min_df\u001b[39m=\u001b[39m\u001b[39m0.001\u001b[39m, \n\u001b[0;32m      6\u001b[0m     max_df\u001b[39m=\u001b[39m\u001b[39m0.7\u001b[39m\n\u001b[0;32m      7\u001b[0m  )\n\u001b[0;32m      8\u001b[0m X \u001b[39m=\u001b[39m df[\u001b[39m\"\u001b[39m\u001b[39mreviewText\u001b[39m\u001b[39m\"\u001b[39m]\u001b[39m.\u001b[39mto_numpy()\n\u001b[1;32m----> 9\u001b[0m X \u001b[39m=\u001b[39m word_vectorizer\u001b[39m.\u001b[39;49mfit_transform(X)\n\u001b[0;32m     10\u001b[0m y \u001b[39m=\u001b[39m df[\u001b[39m'\u001b[39m\u001b[39moverall\u001b[39m\u001b[39m'\u001b[39m]\u001b[39m.\u001b[39mto_numpy()\n\u001b[0;32m     12\u001b[0m X_train, X_val, X_test, y_train, y_val, y_test \u001b[39m=\u001b[39m get_subsets(X,y, train_split\u001b[39m=\u001b[39m\u001b[39m0.8\u001b[39m, val_split\u001b[39m=\u001b[39m\u001b[39m0.1\u001b[39m, test_split\u001b[39m=\u001b[39m\u001b[39m0.1\u001b[39m)\n",
      "File \u001b[1;32mc:\\Users\\matth\\Documents\\Homework\\COMP5630\\ML-Project\\venv\\lib\\site-packages\\sklearn\\feature_extraction\\text.py:1338\u001b[0m, in \u001b[0;36mCountVectorizer.fit_transform\u001b[1;34m(self, raw_documents, y)\u001b[0m\n\u001b[0;32m   1330\u001b[0m             warnings\u001b[39m.\u001b[39mwarn(\n\u001b[0;32m   1331\u001b[0m                 \u001b[39m\"\u001b[39m\u001b[39mUpper case characters found in\u001b[39m\u001b[39m\"\u001b[39m\n\u001b[0;32m   1332\u001b[0m                 \u001b[39m\"\u001b[39m\u001b[39m vocabulary while \u001b[39m\u001b[39m'\u001b[39m\u001b[39mlowercase\u001b[39m\u001b[39m'\u001b[39m\u001b[39m\"\u001b[39m\n\u001b[0;32m   1333\u001b[0m                 \u001b[39m\"\u001b[39m\u001b[39m is True. These entries will not\u001b[39m\u001b[39m\"\u001b[39m\n\u001b[0;32m   1334\u001b[0m                 \u001b[39m\"\u001b[39m\u001b[39m be matched with any documents\u001b[39m\u001b[39m\"\u001b[39m\n\u001b[0;32m   1335\u001b[0m             )\n\u001b[0;32m   1336\u001b[0m             \u001b[39mbreak\u001b[39;00m\n\u001b[1;32m-> 1338\u001b[0m vocabulary, X \u001b[39m=\u001b[39m \u001b[39mself\u001b[39;49m\u001b[39m.\u001b[39;49m_count_vocab(raw_documents, \u001b[39mself\u001b[39;49m\u001b[39m.\u001b[39;49mfixed_vocabulary_)\n\u001b[0;32m   1340\u001b[0m \u001b[39mif\u001b[39;00m \u001b[39mself\u001b[39m\u001b[39m.\u001b[39mbinary:\n\u001b[0;32m   1341\u001b[0m     X\u001b[39m.\u001b[39mdata\u001b[39m.\u001b[39mfill(\u001b[39m1\u001b[39m)\n",
      "File \u001b[1;32mc:\\Users\\matth\\Documents\\Homework\\COMP5630\\ML-Project\\venv\\lib\\site-packages\\sklearn\\feature_extraction\\text.py:1209\u001b[0m, in \u001b[0;36mCountVectorizer._count_vocab\u001b[1;34m(self, raw_documents, fixed_vocab)\u001b[0m\n\u001b[0;32m   1207\u001b[0m \u001b[39mfor\u001b[39;00m doc \u001b[39min\u001b[39;00m raw_documents:\n\u001b[0;32m   1208\u001b[0m     feature_counter \u001b[39m=\u001b[39m {}\n\u001b[1;32m-> 1209\u001b[0m     \u001b[39mfor\u001b[39;00m feature \u001b[39min\u001b[39;00m analyze(doc):\n\u001b[0;32m   1210\u001b[0m         \u001b[39mtry\u001b[39;00m:\n\u001b[0;32m   1211\u001b[0m             feature_idx \u001b[39m=\u001b[39m vocabulary[feature]\n",
      "File \u001b[1;32mc:\\Users\\matth\\Documents\\Homework\\COMP5630\\ML-Project\\venv\\lib\\site-packages\\sklearn\\feature_extraction\\text.py:106\u001b[0m, in \u001b[0;36m_analyze\u001b[1;34m(doc, analyzer, tokenizer, ngrams, preprocessor, decoder, stop_words)\u001b[0m\n\u001b[0;32m     84\u001b[0m \u001b[39m\"\"\"Chain together an optional series of text processing steps to go from\u001b[39;00m\n\u001b[0;32m     85\u001b[0m \u001b[39ma single document to ngrams, with or without tokenizing or preprocessing.\u001b[39;00m\n\u001b[0;32m     86\u001b[0m \n\u001b[1;32m   (...)\u001b[0m\n\u001b[0;32m    102\u001b[0m \u001b[39m    A sequence of tokens, possibly with pairs, triples, etc.\u001b[39;00m\n\u001b[0;32m    103\u001b[0m \u001b[39m\"\"\"\u001b[39;00m\n\u001b[0;32m    105\u001b[0m \u001b[39mif\u001b[39;00m decoder \u001b[39mis\u001b[39;00m \u001b[39mnot\u001b[39;00m \u001b[39mNone\u001b[39;00m:\n\u001b[1;32m--> 106\u001b[0m     doc \u001b[39m=\u001b[39m decoder(doc)\n\u001b[0;32m    107\u001b[0m \u001b[39mif\u001b[39;00m analyzer \u001b[39mis\u001b[39;00m \u001b[39mnot\u001b[39;00m \u001b[39mNone\u001b[39;00m:\n\u001b[0;32m    108\u001b[0m     doc \u001b[39m=\u001b[39m analyzer(doc)\n",
      "File \u001b[1;32mc:\\Users\\matth\\Documents\\Homework\\COMP5630\\ML-Project\\venv\\lib\\site-packages\\sklearn\\feature_extraction\\text.py:234\u001b[0m, in \u001b[0;36m_VectorizerMixin.decode\u001b[1;34m(self, doc)\u001b[0m\n\u001b[0;32m    231\u001b[0m     doc \u001b[39m=\u001b[39m doc\u001b[39m.\u001b[39mdecode(\u001b[39mself\u001b[39m\u001b[39m.\u001b[39mencoding, \u001b[39mself\u001b[39m\u001b[39m.\u001b[39mdecode_error)\n\u001b[0;32m    233\u001b[0m \u001b[39mif\u001b[39;00m doc \u001b[39mis\u001b[39;00m np\u001b[39m.\u001b[39mnan:\n\u001b[1;32m--> 234\u001b[0m     \u001b[39mraise\u001b[39;00m \u001b[39mValueError\u001b[39;00m(\n\u001b[0;32m    235\u001b[0m         \u001b[39m\"\u001b[39m\u001b[39mnp.nan is an invalid document, expected byte or unicode string.\u001b[39m\u001b[39m\"\u001b[39m\n\u001b[0;32m    236\u001b[0m     )\n\u001b[0;32m    238\u001b[0m \u001b[39mreturn\u001b[39;00m doc\n",
      "\u001b[1;31mValueError\u001b[0m: np.nan is an invalid document, expected byte or unicode string."
     ]
    }
   ],
   "source": [
    "from sklearn.feature_extraction.text import CountVectorizer\n",
    "from preprocessing import get_subsets\n",
    "\n",
    "word_vectorizer = CountVectorizer(\n",
    "    min_df=0.001, \n",
    "    max_df=0.7\n",
    " )\n",
    "X = df[\"reviewText\"].to_numpy()\n",
    "X = word_vectorizer.fit_transform(X)\n",
    "y = df['overall'].to_numpy()\n",
    "\n",
    "X_train, X_val, X_test, y_train, y_val, y_test = get_subsets(X,y, train_split=0.8, val_split=0.1, test_split=0.1)\n"
   ]
  },
  {
   "cell_type": "markdown",
   "id": "e370a703",
   "metadata": {},
   "source": [
    "# Visualize Data Distribution"
   ]
  },
  {
   "cell_type": "code",
   "execution_count": 29,
   "id": "c15c87cb",
   "metadata": {},
   "outputs": [
    {
     "data": {
      "image/png": "[encoded data removed]",
      "text/plain": [
       "<Figure size 640x480 with 1 Axes>"
      ]
     },
     "metadata": {},
     "output_type": "display_data"
    }
   ],
   "source": [
    "import matplotlib.pyplot as plt\n",
    "import numpy as np\n",
    "plt.bar(np.unique(y_train, return_counts=True)[0], np.unique(y_train, return_counts=True)[1])\n",
    "plt.xlabel(\"Rating\")\n",
    "plt.ylabel(\"Count\")\n",
    "plt.show()"
   ]
  },
  {
   "cell_type": "markdown",
   "id": "7f11c14f",
   "metadata": {},
   "source": [
    "# Training the Model"
   ]
  },
  {
   "cell_type": "code",
   "execution_count": 31,
   "id": "fafbfaa4",
   "metadata": {},
   "outputs": [
    {
     "name": "stdout",
     "output_type": "stream",
     "text": [
      "Data and shapes:\n",
      "X_train: <class 'scipy.sparse._csr.csr_matrix'> of shape (800, 58112)\n",
      "Y_train: <class 'numpy.ndarray'> of shape (800,)\n"
     ]
    }
   ],
   "source": [
    "print(\"Data and shapes:\")\n",
    "print(\"X_train:\", type(X_train), \"of shape\", X_train.shape)\n",
    "print(\"Y_train:\", type(y_train), \"of shape\", y_train.shape)"
   ]
  },
  {
   "cell_type": "code",
   "execution_count": 56,
   "id": "acac3c34",
   "metadata": {},
   "outputs": [
    {
     "name": "stderr",
     "output_type": "stream",
     "text": [
      "  0%|          | 0/500 [00:00<?, ?it/s]c:\\Users\\matth\\Documents\\Homework\\COMP5630\\ML-Project\\mlp.py:12: RuntimeWarning: overflow encountered in exp\n",
      "  return 1.0 / (1.0 + np.exp(-X))\n",
      "c:\\Users\\matth\\Documents\\Homework\\COMP5630\\ML-Project\\mlp.py:15: RuntimeWarning: overflow encountered in exp\n",
      "  a = 1.0 / (1.0 + np.exp(-X))\n",
      "100%|██████████| 500/500 [00:57<00:00,  8.64it/s]\n"
     ]
    },
    {
     "data": {
      "image/png": "[encoded data removed]",
      "text/plain": [
       "<Figure size 640x480 with 1 Axes>"
      ]
     },
     "metadata": {},
     "output_type": "display_data"
    }
   ],
   "source": [
    "from mlp import MultiLayerPerceptron\n",
    "clf = MultiLayerPerceptron(\n",
    "    epochs=500,\n",
    "    lr=0.1,\n",
    "    hidden_layers=[50, 20],\n",
    "    activation=\"sigmoid\",\n",
    ")\n",
    "clf.fit(X_train, y_train, X_val, y_val, batch_size=200)\n",
    "clf.plot_loss()"
   ]
  },
  {
   "cell_type": "code",
   "execution_count": 57,
   "id": "5e634ef0",
   "metadata": {},
   "outputs": [
    {
     "name": "stdout",
     "output_type": "stream",
     "text": [
      "Training accuracy: 0.525\n",
      "Testing accuracy: 0.53\n"
     ]
    }
   ],
   "source": [
    "print(f\"Training accuracy: {clf.score(X_train, y_train)}\")\n",
    "print(f\"Testing accuracy: {clf.score(X_test, y_test)}\")"
   ]
  },
  {
   "cell_type": "code",
   "execution_count": 60,
   "id": "4a59010c",
   "metadata": {},
   "outputs": [
    {
     "name": "stdout",
     "output_type": "stream",
     "text": [
      "              precision    recall  f1-score   support\n",
      "\n",
      "           1       0.00      0.00      0.00         3\n",
      "           2       0.00      0.00      0.00         9\n",
      "           3       0.20      0.11      0.14         9\n",
      "           4       0.00      0.00      0.00        23\n",
      "           5       0.58      0.93      0.72        56\n",
      "\n",
      "    accuracy                           0.53       100\n",
      "   macro avg       0.16      0.21      0.17       100\n",
      "weighted avg       0.35      0.53      0.41       100\n",
      "\n"
     ]
    },
    {
     "name": "stderr",
     "output_type": "stream",
     "text": [
      "c:\\Users\\matth\\Documents\\Homework\\COMP5630\\ML-Project\\venv\\lib\\site-packages\\sklearn\\metrics\\_classification.py:1334: UndefinedMetricWarning: Precision and F-score are ill-defined and being set to 0.0 in labels with no predicted samples. Use `zero_division` parameter to control this behavior.\n",
      "  _warn_prf(average, modifier, msg_start, len(result))\n",
      "c:\\Users\\matth\\Documents\\Homework\\COMP5630\\ML-Project\\venv\\lib\\site-packages\\sklearn\\metrics\\_classification.py:1334: UndefinedMetricWarning: Precision and F-score are ill-defined and being set to 0.0 in labels with no predicted samples. Use `zero_division` parameter to control this behavior.\n",
      "  _warn_prf(average, modifier, msg_start, len(result))\n",
      "c:\\Users\\matth\\Documents\\Homework\\COMP5630\\ML-Project\\venv\\lib\\site-packages\\sklearn\\metrics\\_classification.py:1334: UndefinedMetricWarning: Precision and F-score are ill-defined and being set to 0.0 in labels with no predicted samples. Use `zero_division` parameter to control this behavior.\n",
      "  _warn_prf(average, modifier, msg_start, len(result))\n"
     ]
    }
   ],
   "source": [
    "from sklearn.metrics import classification_report\n",
    "\n",
    "y_pred = clf.predict(X_test)\n",
    "cm = classification_report(y_test, y_pred)\n",
    "print(cm)"
   ]
  },
  {
   "cell_type": "code",
   "execution_count": 156,
   "id": "b03803e7",
   "metadata": {},
   "outputs": [
    {
     "name": "stdout",
     "output_type": "stream",
     "text": [
      "[0.9096, 0.9101, 0.9123, 0.9111, 0.9086, 0.911, 0.9091, 0.9147, 0.9124, 0.9123, 0.9119, 0.9102, 0.9092, 0.913, 0.9111] : 0.9111066666666666\n",
      "7 is the best classifier\n"
     ]
    }
   ],
   "source": [
    "from multiprocessing import Pool, cpu_count\n",
    "from multip import train_mlp\n",
    "import numpy as np\n",
    "\n",
    "PROCCESSES = cpu_count() - 1\n",
    "classifiers = []\n",
    "with Pool(PROCCESSES) as p:\n",
    "    classifiers = p.map(train_mlp, [(X_train, y_train, X_test, y_test)] * PROCCESSES)\n",
    "accuracies = [clf.score(X_test, y_test) for clf in classifiers]\n",
    "print(accuracies, \":\", np.mean(accuracies))\n",
    "print(np.argmax(accuracies), \"is the best classifier\")\n",
    "best_clf = classifiers[np.argmax(accuracies)]"
   ]
  },
  {
   "cell_type": "code",
   "execution_count": 157,
   "id": "1d1624a4",
   "metadata": {},
   "outputs": [
    {
     "name": "stdout",
     "output_type": "stream",
     "text": [
      "Most positive example is 6197\n",
      "Most negative example is 8165\n",
      "Most neutral example is 5622\n",
      "Most incorrect example is 2694\n"
     ]
    }
   ],
   "source": [
    "\n",
    "p = best_clf.predict_proba(X_test)\n",
    "p = p @ np.array([-1,1]).reshape(2,1)\n",
    "print(f\"Most positive example is {np.argmax(p)}\")\n",
    "print(f\"Most negative example is {np.argmin(p)}\")\n",
    "print(f\"Most neutral example is {np.argmin(np.abs(p))}\")\n",
    "\n",
    "p = (p*0.5 + 0.5)\n",
    "incorrect_amount = p - y_test.reshape(-1,1)\n",
    "print(f'Most incorrect example is {np.argmax(np.abs(incorrect_amount))}')\n"
   ]
  },
  {
   "cell_type": "code",
   "execution_count": 165,
   "id": "5f119f79",
   "metadata": {},
   "outputs": [
    {
     "name": "stdout",
     "output_type": "stream",
     "text": [
      "Predicted: 1 [1.]\n",
      "Actual: 1\n",
      "['one' 'has' 'just' 'you' 'be' 'are' 'right' 'as' 'what' 'with' 'br'\n",
      " 'violence' 'which' 'from' 'go' 'not' 'or' 'no' 'on' 'city' 'an' 'where'\n",
      " 'all' 'have' 'so' 'more' 'far' 'fact' 'audiences' 'around' 'ever' 'who'\n",
      " 'out' 'get' 'well' 'middle' 'into' 'experience' 'if' 'can' 'side'\n",
      " 'one of' 'of the' 'this is' 'br br' 'br the' 'from the' 'in the' 'it is'\n",
      " 'as that' 'that is' 'is the' 'to the' 'all the' 'on the' 'more so'\n",
      " 'that it' 'out for' 'and get' 'with it' 'what is' 'you can' 'very' 'time'\n",
      " 'sense' 'realism' 'only' 'he' 'down' 'pat' 'see' 'by' 'written' 'his'\n",
      " 'life' 'things' 'rather' 'than' 'sets' 'done' 'sense of' 'of realism'\n",
      " 'not only' 'by the' 'but it' 'written and' 'rather than' 'and the' 'way'\n",
      " 'dialogue' 'characters' 'even' 'serial' 'killer' 'while' 'some' 'style'\n",
      " 'us' 'most' 'at' 'years' 'been' 'she' 'her' 'young' 'woman' 'interesting'\n",
      " 'the dialogue' 'dialogue is' 'the characters' 'characters are'\n",
      " 'serial killer' 'of us' 'the most' 'in this' 'young woman' 'of his'\n",
      " 'there' 'make' 'film' 'drama' 'we' '10' 'in his' 'with his' 'the film'\n",
      " 'to see' 'play' 'director' 'action' 'these' 'another' 'world' 'own'\n",
      " 'gets' 'picture' 'big' 'best' 'case' 'good' 'talented' 'cast' 'come'\n",
      " 'work' 'to be' 'the director' 'the action' 'or another' 'we are'\n",
      " 'the picture' 'big city' 'the best' 'my' 'story' 'having' 'last' 'paul'\n",
      " 'performance' 'roles' 'up' 'makes' 'believable' 'had' 'the last' 'of her'\n",
      " 'but that' 'is believable' 'believable and' 'for this' 'sure' 'series'\n",
      " 'today' 'bring' 'back' 'pace' 'any' 'up on' 'and this' 'bad'\n",
      " 'performances' 'hard' 'original' 'also' 'fit' 'made' 'and it'\n",
      " 'the original' 'that made' 'as it' 'here' 'films' 'country' 'played'\n",
      " 'end' 'least' 'and is' 'the end' 'is far' 'at least' 'gut' 'low' 'itself'\n",
      " 'something' 'better' 'is one' 'as the' 'beautiful' 'care' 'much' 'year'\n",
      " 'psycho' 'since' 'br as' 'the story' 'again' 'long' 'before' 'actually'\n",
      " 'however' 'true' 'beyond' 'evil' 'top' 'take' 'ahead' 'him' 'screen'\n",
      " 'to play' 'played by' 'go ahead' 'who makes' 'because' 'keep' 'does'\n",
      " 'cut' 'to bring' 'br in' 'to keep' 'kind' 'drawn' 'town' 'nonsense'\n",
      " 'encounters' 'kind of' 'with all' 'in that' 'this one' 'exception'\n",
      " 'character' 'and of' 'as he' 'the character' 'character of' 'film in'\n",
      " 'beginning' 'both' 'wait' 'someone' 'with one' 'if it' 'cinema' 'anyone'\n",
      " 'the cinema' 'perfectly' 'artist' 'enough' 'guy' 'undeniably' 'burning'\n",
      " 'actually very' 'best of' 'can be' 'to her' 'bad guy' 'aspects'\n",
      " 'that make' 'all of' 'carries' 'matter' 'sudden' 'worse' 'over' 'tape'\n",
      " 'in fact' 'to take' 'part' 'who can' 'though' 'role' 'the role' 'genre'\n",
      " 'jennifer' 'wants' 'reality' 'audience' 'whoever' 'is an' 'at work'\n",
      " 'into the' 'wants to' 'what it' 'picture br' 'once' 'spirit' 'behind'\n",
      " 'end br' 'able' 'stand' 'america' 'typical' 'able to' 'conflict'\n",
      " 'starring' 'law' 'entirely' 'dirty' 'puts' 'becomes' 'north' 'course'\n",
      " 'helps' 'brought' 'upon' 'within' 'two' 'ray' 'greatly' 'effective'\n",
      " 'tactics' 'manages' 'justice' 'between' 'unique' 'lives' 'that has'\n",
      " 'done and' 'not so' 'the audience' 'something of' 'have brought'\n",
      " 'manages to' 'distinctive' 'police' 'second' 'draws' 'small' 'murder'\n",
      " 'works' 'question' 'the second' 'and as' 'her life' 'in small' 'directed'\n",
      " 'successful' 'creates' 'approach' 'himself' 'satisfaction' 'portraying'\n",
      " 'through' 'directed by' 'his own' 'him to' 'he is' 'part of' 'the films'\n",
      " 'ultimately' 'gradually' 'without' 'deliberate' 'impossible' 'provide'\n",
      " 'behind the' 'between the' 'since the' 'impossible to' 'film that'\n",
      " 'tension' 'gave' 'it interesting' 'because of' 'purely' 'or at' 'is in'\n",
      " 'no matter' 'to this' 'the serial' 'front' 'one to' 'just as' 'but at'\n",
      " 'of course' 'in front' 'front of' 'have him' 'him in' 'has made' 'camera'\n",
      " 'her character' 'the camera' 'hold' 'james' 'it had' 'personal'\n",
      " 'continuity' 'local' 'held' 'one the' 'events' 'level' 'working'\n",
      " 'and that' 'as well' 'well as' 'whose' 'supporting' 'through the' 'stuff'\n",
      " 'anyone who' 'screenplay' 'charles' 'spencer' 'sees' 'benefits'\n",
      " 'she sees' 'his way' 'and he' 'he does' 'to end' 'so he' 'counterpart'\n",
      " 'clint' 'eastwood' 'credibility' 'methods' 'impact' 'clint eastwood'\n",
      " 'is where' 'ended' 'found' 'day' 'seeing' 'heart' 'ended up' 'the law'\n",
      " 'in seeing' 'the screen' 'mark' 'settled' 'from there' 'includes'\n",
      " 'necessary' 'often' 'knowing' 'elements' 'perfect' 'popular' 'form'\n",
      " 'criminals' 'engaging' 'knowing the' 'albert' 'stage' 'convincing' 'five'\n",
      " 'upon the' 'that of' 'from beginning' 'beginning to' 'and talented'\n",
      " 'all but' 'and becomes' 'interesting and' 'moral' 'in supporting'\n",
      " 'supporting roles' 'investigation' 'material' 'definitely' 'small town'\n",
      " 'beautiful and' 'is well' 'well written' 'presence' 'that makes' 'brand'\n",
      " 'philosophy' 'harry' 'focus' 'within the' 'makes for' 'bond' 'bar'\n",
      " 'james bond' 'the perfect' 'it even' 'even if' 'finds' 'her to'\n",
      " 'the violence' 'keeps' 'elsewhere' 'the very' 'of one' 'as she' 'limited'\n",
      " 'the unique' 'traumatic' 'discovers' 'of and' 'quickly' 'the screenplay'\n",
      " 'from reality' 'is typical' 'convincing and' 'the guy' 'the local'\n",
      " 'it only' 'way which' 'from seeing' 'him for' 'the middle' 'course this'\n",
      " 'possibly' 'red' 'the burning' 'the red' 'screen time' 'involving'\n",
      " 'not one' 'screen and' 'individual' 'side of' 'sean' 'connery'\n",
      " 'sean connery' 'vacation' 'the five' 'much to' 'chair' 'involves'\n",
      " 'in any' 'cinematic' 'the things' 'things that' 'the bad' 'victims'\n",
      " 'the victims' 'which he' 'us that' 'parallels' 'department' 'that have'\n",
      " 'ordered' 'made of' 'come from' 'middle of' 'smith' 'had been'\n",
      " 'cinema and' 'typical of' 'of in' 'andy' 'joseph' 'or as' 'adds'\n",
      " 'make this' 'once again' 'steps' 'is he' 'fascination' 'this character'\n",
      " 'character with' 'elements that' 'catch' 'role of' 'killer in' 'offering'\n",
      " 'genuinely' 'satisfying' 'it impossible' 'gap' 'bennett' 'material and'\n",
      " 'here in' 'who we' 'we all' '1976' 'portrayal' 'portrayal of' 'blend'\n",
      " 'down in' 'gave us' 'that all' 'vigilante' 'fourth' 'the fourth'\n",
      " 'found in' 'recent' 'camera and' 'to that' 'and out' 'determination'\n",
      " 'swift' 'than ever' 'wait to' 'the series' 'the elements' 'vengeance'\n",
      " 'freedom' 'ever been' 'this country' 'though is' 'are well' 'is able'\n",
      " 'aspects of' 'successful in' 'code' 'world that' 'supporting cast' 'link'\n",
      " 'proverbial' 'both in' 'dear' 'and action' 'on with' 'it by' 'can wait'\n",
      " 'the kind' 'day br' 'establishing' 'focus on' 'of stuff' 'robinson' 'mrs'\n",
      " 'continues' 'essence' 'take care' 'care of' 'and made' 'directs'\n",
      " 'made the' 'these films' 'keep it' 'seven' 'seven years' 'edged'\n",
      " 'very limited' 'and works' 'years since' 'character but' 'response'\n",
      " 'films so' 'is entirely' 'definitely not' 'essence of' 'smith is'\n",
      " 'performance that' 'as with' 'the supporting' 'cast includes' 'where we'\n",
      " 'least have' 'resistance' 'that works' 'san' 'francisco' 'epitome'\n",
      " 'san francisco' 'the epitome' 'epitome of' 'pierce' 'back into'\n",
      " 'that wants' 'superiors' 'of justice' 'drama and' 'arguably' 'take his'\n",
      " 'inspector' 'the essence' 'take some' 'carrying' 'get on' 'she manages'\n",
      " 'sherlock' 'holmes' 'sherlock holmes' 'conceived' 'for better'\n",
      " 'reality the' 'earl' 'be found' 'snappy' 'screenplay by' 'fit into'\n",
      " 'murder in' 'stand out' 'nancy' 'dynamic' 'brand of' 'successfully'\n",
      " 'links' 'does it' 'vulnerability' 'evil and' 'chief' 'gets his' 'icon'\n",
      " 'of not' 'makes her' 'him around' 'of freedom' 'homicide' 'far beyond'\n",
      " 'only on' 'films he' 'is arguably' 'just enough' 'amid' 'employed'\n",
      " 'better or' 'or worse' 'it helps' 'the drama' 'and starring'\n",
      " 'from having' 'story itself' 'at heart' 'drake' 'laced' 'arguably the'\n",
      " 'he lives' 'dirty harry' 'country and' 'blend of' 'for and' 'so popular'\n",
      " 'evokes' 'freedom and' 'style the' 'establishes' 'who ever' 'anyone but'\n",
      " 'events that' 'time so' 'of drama' 'it what' 'derived' 'derived from'\n",
      " 'we come' 'her portrayal' 'territory' 'finds himself' 'in top' 'pursuing'\n",
      " 'mick' 'deed' 'triumphs' 'the criminals' 'smack' 'character so'\n",
      " 'which adds' 'that gave' 'an individual' 'his big' 'tape and'\n",
      " 'action the' 'facility' 'police chief' 'it adds' 'by and' 'in san'\n",
      " 'only his' 'visceral' 'phrases' 'rathbone' 'and convincing' 'basil'\n",
      " 'pioneers' 'fulfilling' 'and quickly' 'locke' 'has long']\n"
     ]
    }
   ],
   "source": [
    "example = 6197\n",
    "print(f\"Predicted: {best_clf.predict(X_test[example])[0]} {p[example]}\\nActual: {y_test[example]}\")\n",
    "print(word_vectorizer.inverse_transform(X_test[example])[0])\n"
   ]
  },
  {
   "cell_type": "markdown",
   "id": "38f74f92",
   "metadata": {},
   "source": [
    "## Runs\n",
    "1. 89.98: (10,5), Logisitic, Early Stopping\n",
    "2. 89.95: (10,5), Relu, Early Stopping,\n",
    "3. 89.71: (5), Relu, Early Stopping\n",
    "4. 85.12: (5), Relu, \n",
    "5. 91.11: (5), Relu, Early Stopping, 2-Grams"
   ]
  },
  {
   "cell_type": "markdown",
   "id": "ef08a055",
   "metadata": {},
   "source": [
    "# Training"
   ]
  },
  {
   "cell_type": "code",
   "execution_count": null,
   "id": "816bfbfc",
   "metadata": {},
   "outputs": [],
   "source": [
    "from sympy import Lambda, Symbol\n",
    "from training import matrix_train\n",
    "\n",
    "\n",
    "x = Symbol(\"x\")\n",
    "\n",
    "\n",
    "# each axis must be an iterable. if you want to use a constant, wrap it in an iterable of len 1\n",
    "hyperparameter_matrix = {\n",
    "    \"epochs\": np.logspace(np.log10(100), np.log10(100000), num=20, dtype=\"int64\"),\n",
    "    \"lr\": np.logspace(np.log10(.00001), np.log10(.1), num=20),\n",
    "    \"hidden_layers\": [5, 6, 7],\n",
    "    \"neurons_per_layer\": [3],\n",
    "    \"activation\": [Lambda(x, x**2)],\n",
    "}\n",
    "\n",
    "best_params = matrix_train(hyperparameter_matrix, MultiLayerPerceptron, X_train, y_train, X_test, y_test)\n",
    "\n",
    "print(best_params)\n",
    "# mlp = MultiLayerPerceptron(**best_params)\n"
   ]
  },
  {
   "cell_type": "markdown",
   "id": "67082690",
   "metadata": {},
   "source": [
    "# Performance"
   ]
  },
  {
   "cell_type": "code",
   "execution_count": null,
   "id": "5d1ef1d5",
   "metadata": {},
   "outputs": [],
   "source": [
    "from analysis import accuracy, confusion, report\n",
    "\n",
    "\n",
    "mlp = MultiLayerPerceptron(**best_params)\n",
    "mlp.fit(X_train, y_train)\n",
    "\n",
    "# print(accuracy(mlp.predict(X_test), y_test))\n",
    "# print(confusion(mlp.predict(X_test), y_test))\n",
    "print(report(mlp.predict(X_test), y_test))\n"
   ]
  },
  {
   "cell_type": "markdown",
   "id": "e7f7f405",
   "metadata": {},
   "source": [
    "# Benchmarking"
   ]
  },
  {
   "cell_type": "code",
   "execution_count": null,
   "id": "25e4e640",
   "metadata": {},
   "outputs": [],
   "source": [
    "# TODO utilize other classifiers and compare performance"
   ]
  }
 ],
 "metadata": {
  "kernelspec": {
   "display_name": "Python 3 (ipykernel)",
   "language": "python",
   "name": "python3"
  },
  "language_info": {
   "codemirror_mode": {
    "name": "ipython",
    "version": 3
   },
   "file_extension": ".py",
   "mimetype": "text/x-python",
   "name": "python",
   "nbconvert_exporter": "python",
   "pygments_lexer": "ipython3",
   "version": "3.10.6"
  },
  "vscode": {
   "interpreter": {
    "hash": "eaf02dffba55afcb757f8661e47ea199414fefb6fedafc1622a26ab926d7da3f"
   }
  }
 },
 "nbformat": 4,
 "nbformat_minor": 5
}
