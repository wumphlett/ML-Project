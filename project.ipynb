{
 "cells": [
  {
   "cell_type": "markdown",
   "id": "9de3eddd",
   "metadata": {},
   "source": [
    "# Notebook Setup\n",
    "Installs necessary requirements and configures proper notebook behavior  \n",
    "Note: The notebook assumes you are using the base conda environment"
   ]
  },
  {
   "cell_type": "code",
   "execution_count": 16,
   "id": "c506dc9e",
   "metadata": {},
   "outputs": [
    {
     "name": "stdout",
     "output_type": "stream",
     "text": [
      "The autoreload extension is already loaded. To reload it, use:\n",
      "  %reload_ext autoreload\n",
      "Notebook setup has completed\n"
     ]
    }
   ],
   "source": [
    "%load_ext autoreload\n",
    "%autoreload 2\n",
    "    \n",
    "print(\"Notebook setup has completed\")"
   ]
  },
  {
   "cell_type": "markdown",
   "id": "05b600f8",
   "metadata": {},
   "source": [
    "# Environment Setup\n",
    "Downloads configured dataset and performs necessary environment bootstrapping"
   ]
  },
  {
   "cell_type": "code",
   "execution_count": 17,
   "id": "a61fb28a",
   "metadata": {},
   "outputs": [
    {
     "name": "stdout",
     "output_type": "stream",
     "text": [
      "Environment setup has completed\n"
     ]
    }
   ],
   "source": [
    "from bootstrap import setup\n",
    "\n",
    "\n",
    "# Please rename .env-template to .env and adjust values as needed\n",
    "setup()\n",
    "\n",
    "print(\"Environment setup has completed\")\n",
    "\n",
    "del setup"
   ]
  },
  {
   "cell_type": "markdown",
   "id": "8cdc59bc",
   "metadata": {},
   "source": [
    "# Sandbox\n",
    "Available data split into training, testing, and validation sets"
   ]
  },
  {
   "cell_type": "code",
   "execution_count": 68,
   "id": "0fdae2a1",
   "metadata": {},
   "outputs": [
    {
     "name": "stdout",
     "output_type": "stream",
     "text": [
      "['10' '15' '1990' '25' '70' '950' 'about' 'accustomed' 'acting' 'action'\n",
      " 'actors' 'addiction' 'adrian' 'adventure' 'after' 'agenda' 'agreements'\n",
      " 'air' 'aired' 'alive' 'all' 'allen' 'almost' 'also' 'amazing' 'an' 'and'\n",
      " 'another' 'anxiously' 'any' 'anymore' 'appeal' 'are' 'arguing' 'around'\n",
      " 'arthur' 'aryans' 'as' 'at' 'audiences' 'average' 'await' 'awakening'\n",
      " 'away' 'awful' 'back' 'bad' 'band' 'basically' 'bbc' 'be' 'become' 'been'\n",
      " 'being' 'believable' 'believe' 'best' 'bette' 'big' 'bit' 'bitches'\n",
      " 'black' 'boogeyman' 'boring' 'boy' 'br' 'bread' 'brilliance' 'brilliant'\n",
      " 'bring' 'brings' 'brutality' 'buscemi' 'but' 'by' 'called' 'camp' 'can'\n",
      " 'career' 'carol' 'case' 'cast' 'cause' 'cells' 'change' 'characters'\n",
      " 'charm' 'cheap' 'children' 'chose' 'chosen' 'christians' 'city' 'class'\n",
      " 'classic' 'closet' 'come' 'comeback' 'comedies' 'comedy' 'comes'\n",
      " 'comfortable' 'comforting' 'comments' 'complete' 'concerning'\n",
      " 'conditioned' 'connect' 'connected' 'contact' 'continued' 'control'\n",
      " 'couldn' 'country' 'creator' 'credits' 'crooked' 'crown' 'dare' 'darker'\n",
      " 'dated' 'davis' 'dawson' 'dealings' 'death' 'decade' 'decide' 'decides'\n",
      " 'decline' 'decorating' 'dedication' 'delight' 'descent' 'despite'\n",
      " 'developed' 'devil' 'dialogs' 'dialogue' 'diary' 'different' 'direction'\n",
      " 'director' 'disappears' 'disappointed' 'discerns' 'discomforting'\n",
      " 'disgraceful' 'divorcing' 'do' 'dodgy' 'doesn' 'done' 'doubt' 'down'\n",
      " 'dozen' 'drama' 'dream' 'dressed' 'dropped' 'drugs' 'due' 'each'\n",
      " 'editing' 'effort' 'em' 'emerald' 'encounter' 'encouraged' 'end'\n",
      " 'entertaining' 'entire' 'entries' 'episode' 'even' 'ever' 'every'\n",
      " 'exactly' 'excitement' 'expected' 'experience' 'experimental' 'extreme'\n",
      " 'extremely' 'eyes' 'face' 'fact' 'faint' 'fallen' 'family' 'fantasy'\n",
      " 'far' 'fashion' 'favorite' 'felt' 'few' 'fighting' 'film' 'filming'\n",
      " 'films' 'find' 'first' 'fit' 'flat' 'focuses' 'followed' 'for' 'forget'\n",
      " 'forward' 'four' 'fresh' 'friends' 'from' 'fronts' 'fulfillment' 'fully'\n",
      " 'fun' 'funny' 'further' 'gangstas' 'get' 'gets' 'give' 'given' 'gives'\n",
      " 'giving' 'glass' 'go' 'goes' 'going' 'good' 'got' 'grandma' 'graphic'\n",
      " 'great' 'grenier' 'grew' 'grown' 'guard' 'guards' 'guest' 'guided'\n",
      " 'gunsmoke' 'gut' 'habitat' 'hacks' 'had' 'halliwell' 'hand' 'happened'\n",
      " 'happening' 'happy' 'hard' 'hardcore' 'harvey' 'has' 'have' 'having' 'he'\n",
      " 'hearted' 'hell' 'her' 'here' 'hero' 'high' 'his' 'home' 'hooked' 'hosts'\n",
      " 'hot' 'how' 'huge' 'human' 'hunt' 'idea' 'if' 'ignore' 'image'\n",
      " 'imperioli' 'impressed' 'in' 'inhabits' 'injustice' 'inmates'\n",
      " 'innovative' 'instead' 'interesting' 'into' 'inwards' 'irish' 'is' 'it'\n",
      " 'italians' 'its' 'jake' 'jewel' 'johanson' 'jumped' 'just' 'kane'\n",
      " 'keitel' 'kid' 'kids' 'kill' 'killer' 'know' 'knowledge' 'lack' 'lame'\n",
      " 'last' 'latinos' 'laughed' 'laughter' 'least' 'leave' 'less' 'let' 'lets'\n",
      " 'levels' 'life' 'light' 'likable' 'like' 'liked' 'lines' 'little' 'live'\n",
      " 'll' 'loneliness' 'look' 'looking' 'looks' 'love' 'luck' 'lukas'\n",
      " 'luxurious' 'made' 'main' 'mainly' 'mainstream' 'make' 'makes' 'making'\n",
      " 'managed' 'mannered' 'many' 'master' 'masterful' 'match' 'mattei'\n",
      " 'maximum' 'may' 'me' 'meaningless' 'mediocrity' 'meet' 'mentioned' 'mess'\n",
      " 'michael' 'middle' 'midgets' 'mildly' 'mistake' 'mom' 'money' 'more'\n",
      " 'most' 'mother' 'movie' 'movies' 'mr' 'murals' 'muslims' 'must' 'my'\n",
      " 'nasty' 'need' 'never' 'new' 'next' 'nice' 'nickel' 'nickname' 'no'\n",
      " 'noble' 'not' 'now' 'obsessives' 'of' 'off' 'offers' 'oh' 'ok' 'old'\n",
      " 'ole' 'on' 'one' 'only' 'opera' 'or' 'order' 'original' 'orton' 'oswald'\n",
      " 'other' 'our' 'out' 'outlet' 'own' 'oz' 'pace' 'pacing' 'painfully'\n",
      " 'painted' 'parents' 'particularly' 'pat' 'paul' 'penitentary' 'people'\n",
      " 'performance' 'performances' 'performed' 'person' 'petter' 'picture'\n",
      " 'pictures' 'piece' 'place' 'play' 'played' 'playing' 'plays' 'plot'\n",
      " 'plus' 'point' 'points' 'polari' 'portrait' 'positive' 'power' 'prada'\n",
      " 'preachy' 'present' 'pretty' 'prevents' 'previous' 'prison' 'privacy'\n",
      " 'probably' 'production' 'proof' 'pulls' 'punches' 'quit' 'rambo' 'rarely'\n",
      " 'rather' 're' 'read' 'ready' 'real' 'realism' 'realize' 'really'\n",
      " 'recognize' 'references' 'regards' 'relations' 'remains' 'replace'\n",
      " 'respect' 'respite' 'rest' 'resurrection' 'reviewers' 'rhymes' 'right'\n",
      " 'risk' 'roles' 'romance' 'roof' 'rosario' 'ruins' 'sacrifice' 'same'\n",
      " 'saw' 'say' 'says' 'scarlet' 'scenes' 'schnitzler' 'score' 'scuffles'\n",
      " 'sea' 'seahunt' 'seamless' 'section' 'security' 'see' 'seems' 'seen'\n",
      " 'selected' 'selflessness' 'sense' 'senses' 'serial' 'series' 'set' 'sets'\n",
      " 'sex' 'sexy' 'shady' 'she' 'sheen' 'shots' 'show' 'shows' 'side'\n",
      " 'similar' 'simplistic' 'sincere' 'sitting' 'situations' 'skills' 'slow'\n",
      " 'slower' 'so' 'soap' 'sold' 'solid' 'some' 'sometimes' 'song'\n",
      " 'sophisticated' 'souls' 'soundtrack' 'spend' 'spirited' 'spots' 'stages'\n",
      " 'stares' 'stars' 'startling' 'state' 'steve' 'still' 'story' 'storyline'\n",
      " 'street' 'struck' 'stunning' 'style' 'stylishly' 'submit' 'success'\n",
      " 'such' 'suddenly' 'summer' 'superman' 'sure' 'surface' 'surreal'\n",
      " 'suspected' 'sympathetic' 'taken' 'talented' 'taste' 'tears' 'tech'\n",
      " 'technique' 'techniques' 'telling' 'terribly' 'terrificly' 'than' 'thank'\n",
      " 'that' 'thats' 'the' 'theater' 'their' 'them' 'theme' 'then' 'there'\n",
      " 'these' 'they' 'thing' 'things' 'thinks' 'this' 'thought' 'thriller'\n",
      " 'thumbs' 'time' 'times' 'timid' 'to' 'today' 'tone' 'too' 'totally'\n",
      " 'touch' 'traditional' 'transfers' 'truly' 'trust' 'tune' 'turned' 'tv'\n",
      " 'unassuming' 'uncomfortable' 'under' 'unflinching' 'up' 'us' 'use'\n",
      " 'variation' 've' 'very' 'view' 'viewing' 'viewpoints' 'violence'\n",
      " 'visually' 'vivid' 'voices' 'vote' 'wanna' 'was' 'waste' 'watch'\n",
      " 'watchable' 'watched' 'watching' 'water' 'way' 'we' 'wears' 'week'\n",
      " 'weekend' 'well' 'were' 'what' 'when' 'where' 'which' 'while' 'white'\n",
      " 'who' 'will' 'williams' 'wish' 'with' 'wittier' 'witty' 'woman'\n",
      " 'wonderful' 'woody' 'word' 'work' 'world' 'worst' 'worth' 'would'\n",
      " 'wouldn' 'wrenching' 'writing' 'written' 'years' 'york' 'you' 'young'\n",
      " 'your' 'zombie']\n"
     ]
    }
   ],
   "source": [
    "word_vectorizer = CountVectorizer()\n",
    "a = word_vectorizer.fit_transform(reviews)\n",
    "print(word_vectorizer.get_feature_names_out())"
   ]
  },
  {
   "cell_type": "code",
   "execution_count": 99,
   "id": "047a2154",
   "metadata": {},
   "outputs": [],
   "source": [
    "from preprocessing import get_dataframe, get_subsets\n",
    "from sklearn.feature_extraction.text import CountVectorizer\n",
    "import pandas as pd\n",
    "\n",
    "df = get_dataframe()  # In the form [features, labels]\n",
    "\n",
    "word_vectorizer = CountVectorizer()\n",
    "reviews = df[\"review\"].to_numpy()\n",
    "processed_data = pd.DataFrame(word_vectorizer.fit_transform(reviews).toarray())\n",
    "processed_data['sentiment'] = df['sentiment'].apply(lambda x: 1 if x == 'positive' else 0)\n",
    "\n",
    "# TODO: Transform raw text into a representation suitable for a MLP\n",
    "# df can has as many feature columns as needed, but the last column must be the label column\n",
    "\n",
    "X_train, X_test, X_validate, y_train, y_test, y_validate = get_subsets(processed_data)\n"
   ]
  },
  {
   "cell_type": "markdown",
   "id": "7f11c14f",
   "metadata": {},
   "source": [
    "# Manual Testing"
   ]
  },
  {
   "cell_type": "code",
   "execution_count": 100,
   "id": "fafbfaa4",
   "metadata": {},
   "outputs": [
    {
     "name": "stdout",
     "output_type": "stream",
     "text": [
      "Data and shapes:\n",
      "X_train:  (600, 17922)\n",
      "X_train example:  [0 0 0 ... 0 0 0]\n",
      "y_train:  (600,)\n",
      "y_train example:  0\n"
     ]
    }
   ],
   "source": [
    "print(\"Data and shapes:\")\n",
    "print(\"X_train: \", X_train.shape)\n",
    "print(\"X_train example: \", X_train[0])\n",
    "print(\"y_train: \", y_train.shape)\n",
    "print(\"y_train example: \", y_train[0])"
   ]
  },
  {
   "cell_type": "code",
   "execution_count": 108,
   "id": "a7423632",
   "metadata": {},
   "outputs": [
    {
     "name": "stderr",
     "output_type": "stream",
     "text": [
      "100%|██████████| 150/150 [15:32<00:00,  6.21s/it]\n"
     ]
    }
   ],
   "source": [
    "from mlp import MultiLayerPerceptron\n",
    "from analysis import accuracy\n",
    "\n",
    "input_size = X_train.shape[1]\n",
    "\n",
    "mlp = MultiLayerPerceptron(\n",
    "    epochs=150,\n",
    "    lr=0.05,\n",
    "    input_layer=input_size,\n",
    "    hidden_layers=[30, 10],\n",
    "    output_layer=1,\n",
    "    activation=\"sigmoid\",\n",
    ")\n",
    "\n",
    "mlp.fit(X_train, y_train)"
   ]
  },
  {
   "cell_type": "code",
   "execution_count": 110,
   "id": "3d23a985",
   "metadata": {},
   "outputs": [
    {
     "data": {
      "image/png": "[encoded data removed]",
      "text/plain": [
       "<Figure size 640x480 with 1 Axes>"
      ]
     },
     "metadata": {},
     "output_type": "display_data"
    }
   ],
   "source": [
    "mlp.plot_loss()"
   ]
  },
  {
   "cell_type": "code",
   "execution_count": 113,
   "id": "6a29b5f6",
   "metadata": {},
   "outputs": [
    {
     "name": "stdout",
     "output_type": "stream",
     "text": [
      "0.55\n"
     ]
    }
   ],
   "source": [
    "print(accuracy(mlp.predict(X_test), y_test))"
   ]
  },
  {
   "cell_type": "code",
   "execution_count": 105,
   "id": "acac3c34",
   "metadata": {},
   "outputs": [
    {
     "name": "stdout",
     "output_type": "stream",
     "text": [
      "0.87\n"
     ]
    }
   ],
   "source": [
    "from sklearn.svm import SVC\n",
    "clf = SVC(kernel='rbf', gamma='scale')\n",
    "clf.fit(X_train, y_train)\n",
    "print(accuracy(clf.predict(X_train), y_train))"
   ]
  },
  {
   "cell_type": "markdown",
   "id": "ef08a055",
   "metadata": {},
   "source": [
    "# Training"
   ]
  },
  {
   "cell_type": "code",
   "execution_count": null,
   "id": "816bfbfc",
   "metadata": {},
   "outputs": [],
   "source": [
    "from sympy import Lambda, Symbol\n",
    "from training import matrix_train\n",
    "\n",
    "\n",
    "x = Symbol(\"x\")\n",
    "\n",
    "\n",
    "# each axis must be an iterable. if you want to use a constant, wrap it in an iterable of len 1\n",
    "hyperparameter_matrix = {\n",
    "    \"epochs\": np.logspace(np.log10(100), np.log10(100000), num=20, dtype=\"int64\"),\n",
    "    \"lr\": np.logspace(np.log10(.00001), np.log10(.1), num=20),\n",
    "    \"hidden_layers\": [5, 6, 7],\n",
    "    \"neurons_per_layer\": [3],\n",
    "    \"activation\": [Lambda(x, x**2)],\n",
    "}\n",
    "\n",
    "best_params = matrix_train(hyperparameter_matrix, MultiLayerPerceptron, X_train, y_train, X_test, y_test)\n",
    "\n",
    "print(best_params)\n",
    "# mlp = MultiLayerPerceptron(**best_params)\n"
   ]
  },
  {
   "cell_type": "markdown",
   "id": "67082690",
   "metadata": {},
   "source": [
    "# Performance"
   ]
  },
  {
   "cell_type": "code",
   "execution_count": null,
   "id": "5d1ef1d5",
   "metadata": {},
   "outputs": [],
   "source": [
    "from analysis import accuracy, confusion, report\n",
    "\n",
    "\n",
    "mlp = MultiLayerPerceptron(**best_params)\n",
    "mlp.fit(X_train, y_train)\n",
    "\n",
    "# print(accuracy(mlp.predict(X_test), y_test))\n",
    "# print(confusion(mlp.predict(X_test), y_test))\n",
    "print(report(mlp.predict(X_test), y_test))\n"
   ]
  },
  {
   "cell_type": "markdown",
   "id": "e7f7f405",
   "metadata": {},
   "source": [
    "# Benchmarking"
   ]
  },
  {
   "cell_type": "code",
   "execution_count": null,
   "id": "25e4e640",
   "metadata": {},
   "outputs": [],
   "source": [
    "# TODO utilize other classifiers and compare performance"
   ]
  }
 ],
 "metadata": {
  "kernelspec": {
   "display_name": "Python 3.10.6 ('venv': venv)",
   "language": "python",
   "name": "python3"
  },
  "language_info": {
   "codemirror_mode": {
    "name": "ipython",
    "version": 3
   },
   "file_extension": ".py",
   "mimetype": "text/x-python",
   "name": "python",
   "nbconvert_exporter": "python",
   "pygments_lexer": "ipython3",
   "version": "3.10.6"
  },
  "vscode": {
   "interpreter": {
    "hash": "eaf02dffba55afcb757f8661e47ea199414fefb6fedafc1622a26ab926d7da3f"
   }
  }
 },
 "nbformat": 4,
 "nbformat_minor": 5
}
