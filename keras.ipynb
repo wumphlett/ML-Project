{
 "cells": [
  {
   "cell_type": "code",
   "execution_count": null,
   "metadata": {},
   "outputs": [],
   "source": [
    "import tensorflow as tf\n",
    "import pandas as pd\n",
    "import numpy as np\n",
    "import os\n",
    "\n",
    "print(\"Num GPUs Available: \", len(tf.config.list_physical_devices('GPU')))"
   ]
  },
  {
   "cell_type": "code",
   "execution_count": null,
   "metadata": {},
   "outputs": [],
   "source": [
    "url = 'https://drive.google.com/uc?export=download&id=1ru8jlaqGYD7C_dZnAelqWHODFHYeA7y3'\n",
    "dataset = tf.keras.utils.get_file(\"balanced_dataset.csv\", url,\n",
    "                                  cache_dir='data',\n",
    "                                  cache_subdir='')"
   ]
  },
  {
   "cell_type": "code",
   "execution_count": null,
   "metadata": {},
   "outputs": [],
   "source": [
    "df = pd.read_csv(dataset)\n",
    "# shuffle the dataset\n",
    "df = df.sample(frac=1).reset_index(drop=True)\n",
    "# write to csv"
   ]
  },
  {
   "cell_type": "code",
   "execution_count": null,
   "metadata": {},
   "outputs": [],
   "source": [
    "df.to_csv('data/balanced_dataset_shuffle.csv', index=False)"
   ]
  },
  {
   "cell_type": "code",
   "execution_count": null,
   "metadata": {},
   "outputs": [],
   "source": [
    "dataset = \"data\\\\balanced_dataset_shuffle.csv\""
   ]
  },
  {
   "cell_type": "code",
   "execution_count": null,
   "metadata": {},
   "outputs": [],
   "source": [
    "# load tensorflow dataset\n",
    "ds = tf.data.experimental.make_csv_dataset(\n",
    "    dataset,\n",
    "    batch_size=64,\n",
    "    label_name='overall',\n",
    "    num_epochs=1,\n",
    "    shuffle=True,\n",
    ")\n",
    "AUTOTUNE = tf.data.experimental.AUTOTUNE\n",
    "ds = ds.cache().prefetch(buffer_size=AUTOTUNE)\n"
   ]
  },
  {
   "cell_type": "code",
   "execution_count": null,
   "metadata": {},
   "outputs": [],
   "source": [
    "train_ds = ds.take(5000)\n",
    "val_ds = ds.skip(5000).take(500)\n",
    "test_ds = ds.skip(5500).take(500)"
   ]
  },
  {
   "cell_type": "code",
   "execution_count": null,
   "metadata": {},
   "outputs": [],
   "source": [
    "VOCAB_SIZE = 50000\n",
    "SEQUENCE_LENGTH = 500\n",
    "# text_vectorizer = tf.keras.layers.TextVectorization(\n",
    "#     max_tokens=VOCAB_SIZE,\n",
    "#     output_mode='count',\n",
    "# )\n",
    "text_vectorizer = tf.keras.layers.TextVectorization(\n",
    "    max_tokens=VOCAB_SIZE,\n",
    "    output_mode='int',\n",
    "    output_sequence_length=SEQUENCE_LENGTH,\n",
    ")"
   ]
  },
  {
   "cell_type": "code",
   "execution_count": null,
   "metadata": {},
   "outputs": [],
   "source": [
    "train_text = train_ds.map(lambda x, y: x['reviewText'])\n",
    "text_vectorizer.adapt(train_text)"
   ]
  },
  {
   "cell_type": "code",
   "execution_count": null,
   "metadata": {},
   "outputs": [],
   "source": [
    "classes = [1,2,3,4,5]\n",
    "table = tf.lookup.StaticHashTable(\n",
    "    tf.lookup.KeyValueTensorInitializer(tf.constant(classes), tf.range(len(classes))), \n",
    "    default_value=-1) \n",
    "label_encoder = tf.keras.layers.Lambda(lambda x: table.lookup(x))\n",
    "train_ds = train_ds.map(lambda x, y: (x, label_encoder(y)))\n",
    "val_ds = val_ds.map(lambda x, y: (x, label_encoder(y)))\n",
    "test_ds = test_ds.map(lambda x, y: (x, label_encoder(y)))"
   ]
  },
  {
   "cell_type": "code",
   "execution_count": null,
   "metadata": {},
   "outputs": [],
   "source": [
    "callback = tf.keras.callbacks.EarlyStopping(monitor='val_loss', patience=3)\n",
    "model = tf.keras.Sequential([\n",
    "    tf.keras.Input(shape=(1,), dtype=tf.string),\n",
    "    text_vectorizer,\n",
    "    tf.keras.layers.Embedding(VOCAB_SIZE + 1, 64),\n",
    "    tf.keras.layers.Dropout(0.5),\n",
    "    tf.keras.layers.GlobalAveragePooling1D(),\n",
    "    tf.keras.layers.Dense(64, activation='relu'),\n",
    "    tf.keras.layers.Dense(16, activation='relu'),\n",
    "    tf.keras.layers.Dense(5, activation='softmax'),\n",
    "    # tf.keras.layers.Dense(5, activation='relu'),\n",
    "    # tf.keras.layers.Dense(1)\n",
    "])\n",
    "model.compile(optimizer=tf.keras.optimizers.Adam(),\n",
    "                loss=tf.keras.losses.SparseCategoricalCrossentropy(),\n",
    "                metrics=['accuracy','mae'])\n"
   ]
  },
  {
   "cell_type": "code",
   "execution_count": null,
   "metadata": {},
   "outputs": [],
   "source": [
    "# visual distrobution of labels in training data\n",
    "import matplotlib.pyplot as plt\n",
    "import seaborn as sns\n",
    "sns.set_style('darkgrid')\n",
    "sns.set(font_scale=1.5)\n",
    "sns.set_palette('bright')\n",
    "plt.figure(figsize=(10, 8))\n",
    "train_labels = np.concatenate([y for x, y in train_ds], axis=0)\n",
    "sns.countplot(x=train_labels)\n",
    "plt.xlabel('Review Rating')\n",
    "plt.show()\n"
   ]
  },
  {
   "cell_type": "code",
   "execution_count": null,
   "metadata": {},
   "outputs": [],
   "source": [
    "history = model.fit(train_ds, epochs=10, validation_data=val_ds, callbacks=[callback])"
   ]
  },
  {
   "cell_type": "code",
   "execution_count": null,
   "metadata": {},
   "outputs": [],
   "source": [
    "results = model.evaluate(test_ds)"
   ]
  },
  {
   "cell_type": "code",
   "execution_count": null,
   "metadata": {},
   "outputs": [],
   "source": [
    "res = model.predict([\n",
    "    \"This is a great product. I love it. I would recommend it to anyone.\",\n",
    "    \"This is a bad product. I hate it. I would not recommend it to anyone.\",\n",
    "    \"This is decent product. I would recommend it to some people.\",\n",
    "])\n",
    "print(np.argmax(res, axis=1))\n",
    "print(res)"
   ]
  },
  {
   "cell_type": "code",
   "execution_count": null,
   "metadata": {},
   "outputs": [],
   "source": [
    "model.summary()"
   ]
  }
 ],
 "metadata": {
  "kernelspec": {
   "display_name": "Python 3.9.6 ('ai')",
   "language": "python",
   "name": "python3"
  },
  "language_info": {
   "codemirror_mode": {
    "name": "ipython",
    "version": 3
   },
   "file_extension": ".py",
   "mimetype": "text/x-python",
   "name": "python",
   "nbconvert_exporter": "python",
   "pygments_lexer": "ipython3",
   "version": "3.9.6"
  },
  "orig_nbformat": 4,
  "vscode": {
   "interpreter": {
    "hash": "a3eb7f267467d6c03b504a34921e6add82dd5c3f67d72f72325143bde61c1eed"
   }
  }
 },
 "nbformat": 4,
 "nbformat_minor": 2
}
